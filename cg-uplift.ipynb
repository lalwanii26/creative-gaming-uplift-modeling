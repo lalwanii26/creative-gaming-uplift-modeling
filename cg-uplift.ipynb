{
 "cells": [
  {
   "attachments": {},
   "cell_type": "markdown",
   "metadata": {},
   "source": [
    "# Creative Gaming: Uplift Modeling"
   ]
  },
  {
   "cell_type": "code",
   "execution_count": 1,
   "metadata": {},
   "outputs": [
    {
     "data": {
      "text/plain": [
       "'0.7.5'"
      ]
     },
     "execution_count": 1,
     "metadata": {},
     "output_type": "execute_result"
    }
   ],
   "source": [
    "import matplotlib as mpl\n",
    "import matplotlib.pyplot as plt\n",
    "import seaborn as sns\n",
    "import numpy as np\n",
    "import pandas as pd\n",
    "import pyrsm as rsm\n",
    "from sklearn.model_selection import StratifiedShuffleSplit\n",
    "from sklearn.ensemble import RandomForestClassifier\n",
    "from sklearn.model_selection import GridSearchCV\n",
    "import statsmodels.formula.api as smf\n",
    "from statsmodels.genmod.families import Binomial\n",
    "from statsmodels.genmod.families.links import logit\n",
    "\n",
    "# increase plot resolution\n",
    "# mpl.rcParams[\"figure.dpi\"] = 150\n",
    "\n",
    "\n",
    "# checking pyrsm version\n",
    "rsm.__version__  # should be 0.7.4 or higher"
   ]
  },
  {
   "cell_type": "code",
   "execution_count": 2,
   "metadata": {},
   "outputs": [],
   "source": [
    "## setup pyrsm for autoreload when you edit code and save\n",
    "## nothing else needed!\n",
    "%reload_ext autoreload\n",
    "%autoreload 2\n",
    "%aimport pyrsm\n"
   ]
  },
  {
   "attachments": {},
   "cell_type": "markdown",
   "metadata": {},
   "source": [
    "1. Prepare the data (5 points): \n",
    "\n",
    "a. Add a variable “ad” to cg_ad_random and set its value to 1 for all rows \\\n",
    "b. Add a variable “ad” to cg_organic_control and set its value to 0 for all rows \\\n",
    "c. Create a stacked dataset for the uplift analysis by combining cg_organic_control (Group 1) and cg_ad_random (Group 2). Use cg_rct_stacked as the name for the stacked dataset. \\\\\n"
   ]
  },
  {
   "cell_type": "code",
   "execution_count": 3,
   "metadata": {},
   "outputs": [
    {
     "data": {
      "text/markdown": [
       "## Creative gaming\n",
       "\n",
       "Game telemetry dataset used for the Creative Gaming: Uplift Modeling case\n",
       "\n",
       "#### Feature descriptions\n",
       "\n",
       "* converted: Purchased the Zalon campain (\"yes\" or \"no\")\n",
       "* GameLevel: Highest level of game achieved by the user\n",
       "* NumGameDays: Number of days user played the game in last month (with or without network connection)\n",
       "* NumGameDays4Plus: Number of days user played the game in last month with 4 or more total users (this implies using a network connection)\n",
       "* NumInGameMessagesSent: Number of in-game messages sent to friends\n",
       "* NumFriends: Number of friends to which the user is connected (necessary to crew together in multiplayer mode) \n",
       "* NumFriendRequestIgnored: Number of friend requests this user has not replied to since game inception\n",
       "* NumSpaceHeroBadges: Number of \"Space Hero\" badges, the highest distinction for gameplay in Space Pirates\n",
       "* AcquiredSpaceship: Flag if the user owns a spaceship, i.e., does not have to crew on another user's or NPC's space ship (\"no\" or \"yes\")\n",
       "* AcquiredIonWeapon: Flag if the user owns the powerful \"ion weapon\" (\"no\" or \"yes\")\n",
       "* TimesLostSpaceship: The number of times the user destroyed his/her spaceship during gameplay. Spaceships need to be re-acquired if destroyed.\n",
       "* TimesKilled: Number of times the user was killed during gameplay\n",
       "* TimesCaptain: Number of times in last month that the user played in the role of a captain\n",
       "* TimesNavigator: Number of times in last month that the user played in the role of a navigator\n",
       "* PurchasedCoinPackSmall: Flag if the user purchased a small pack of Zathium in last month (\"no\" or \"yes\")\n",
       "* PurchasedCoinPackLarge: Flag if the user purchased a large pack of Zathium in last month (\"no\" or \"yes\")\n",
       "* NumAdsClicked: Number of in-app ads the user has clicked on\n",
       "* DaysUser: Number of days since user established a user ID with Creative Gaming (for Space Pirates or previous games)\n",
       "* UserConsole: Flag if the user plays Creative Gaming games on a console (\"no\" or \"yes\")\n",
       "* UserHasOldOS: Flag if the user has iOS version 10 or earlier (\"no\" or \"yes\")\n"
      ],
      "text/plain": [
       "<IPython.core.display.Markdown object>"
      ]
     },
     "metadata": {},
     "output_type": "display_data"
    }
   ],
   "source": [
    "## loading the data - this dataset must NOT be changed\n",
    "cg_organic_control = pd.read_pickle(\"data/cg_organic_control.pkl\")\n",
    "cg_organic_control[\"ad\"] = 0\n",
    "rsm.describe(cg_organic_control)"
   ]
  },
  {
   "cell_type": "code",
   "execution_count": 4,
   "metadata": {},
   "outputs": [
    {
     "data": {
      "text/markdown": [
       "## Creative gaming\n",
       "\n",
       "Game telemetry dataset used for the Creative Gaming: Uplift Modeling case\n",
       "\n",
       "#### Feature descriptions\n",
       "\n",
       "* converted: Purchased the Zalon campain (\"yes\" or \"no\")\n",
       "* GameLevel: Highest level of game achieved by the user\n",
       "* NumGameDays: Number of days user played the game in last month (with or without network connection)\n",
       "* NumGameDays4Plus: Number of days user played the game in last month with 4 or more total users (this implies using a network connection)\n",
       "* NumInGameMessagesSent: Number of in-game messages sent to friends\n",
       "* NumFriends: Number of friends to which the user is connected (necessary to crew together in multiplayer mode) \n",
       "* NumFriendRequestIgnored: Number of friend requests this user has not replied to since game inception\n",
       "* NumSpaceHeroBadges: Number of \"Space Hero\" badges, the highest distinction for gameplay in Space Pirates\n",
       "* AcquiredSpaceship: Flag if the user owns a spaceship, i.e., does not have to crew on another user's or NPC's space ship (\"no\" or \"yes\")\n",
       "* AcquiredIonWeapon: Flag if the user owns the powerful \"ion weapon\" (\"no\" or \"yes\")\n",
       "* TimesLostSpaceship: The number of times the user destroyed his/her spaceship during gameplay. Spaceships need to be re-acquired if destroyed.\n",
       "* TimesKilled: Number of times the user was killed during gameplay\n",
       "* TimesCaptain: Number of times in last month that the user played in the role of a captain\n",
       "* TimesNavigator: Number of times in last month that the user played in the role of a navigator\n",
       "* PurchasedCoinPackSmall: Flag if the user purchased a small pack of Zathium in last month (\"no\" or \"yes\")\n",
       "* PurchasedCoinPackLarge: Flag if the user purchased a large pack of Zathium in last month (\"no\" or \"yes\")\n",
       "* NumAdsClicked: Number of in-app ads the user has clicked on\n",
       "* DaysUser: Number of days since user established a user ID with Creative Gaming (for Space Pirates or previous games)\n",
       "* UserConsole: Flag if the user plays Creative Gaming games on a console (\"no\" or \"yes\")\n",
       "* UserHasOldOS: Flag if the user has iOS version 10 or earlier (\"no\" or \"yes\")"
      ],
      "text/plain": [
       "<IPython.core.display.Markdown object>"
      ]
     },
     "metadata": {},
     "output_type": "display_data"
    }
   ],
   "source": [
    "## loading the data - this dataset must NOT be changed\n",
    "cg_ad_random = pd.read_pickle(\"data/cg_ad_random.pkl\")\n",
    "cg_ad_random[\"ad\"] = 1\n",
    "rsm.describe(cg_ad_random)"
   ]
  },
  {
   "cell_type": "code",
   "execution_count": 5,
   "metadata": {},
   "outputs": [
    {
     "data": {
      "text/html": [
       "<div>\n",
       "<style scoped>\n",
       "    .dataframe tbody tr th:only-of-type {\n",
       "        vertical-align: middle;\n",
       "    }\n",
       "\n",
       "    .dataframe tbody tr th {\n",
       "        vertical-align: top;\n",
       "    }\n",
       "\n",
       "    .dataframe thead th {\n",
       "        text-align: right;\n",
       "    }\n",
       "</style>\n",
       "<table border=\"1\" class=\"dataframe\">\n",
       "  <thead>\n",
       "    <tr style=\"text-align: right;\">\n",
       "      <th></th>\n",
       "      <th>converted</th>\n",
       "      <th>GameLevel</th>\n",
       "      <th>NumGameDays</th>\n",
       "      <th>NumGameDays4Plus</th>\n",
       "      <th>NumInGameMessagesSent</th>\n",
       "      <th>NumSpaceHeroBadges</th>\n",
       "      <th>NumFriendRequestIgnored</th>\n",
       "      <th>NumFriends</th>\n",
       "      <th>AcquiredSpaceship</th>\n",
       "      <th>AcquiredIonWeapon</th>\n",
       "      <th>...</th>\n",
       "      <th>TimesKilled</th>\n",
       "      <th>TimesCaptain</th>\n",
       "      <th>TimesNavigator</th>\n",
       "      <th>PurchasedCoinPackSmall</th>\n",
       "      <th>PurchasedCoinPackLarge</th>\n",
       "      <th>NumAdsClicked</th>\n",
       "      <th>DaysUser</th>\n",
       "      <th>UserConsole</th>\n",
       "      <th>UserHasOldOS</th>\n",
       "      <th>ad</th>\n",
       "    </tr>\n",
       "  </thead>\n",
       "  <tbody>\n",
       "    <tr>\n",
       "      <th>0</th>\n",
       "      <td>no</td>\n",
       "      <td>7</td>\n",
       "      <td>18</td>\n",
       "      <td>0</td>\n",
       "      <td>124</td>\n",
       "      <td>0</td>\n",
       "      <td>81</td>\n",
       "      <td>0</td>\n",
       "      <td>yes</td>\n",
       "      <td>no</td>\n",
       "      <td>...</td>\n",
       "      <td>0</td>\n",
       "      <td>0</td>\n",
       "      <td>4</td>\n",
       "      <td>no</td>\n",
       "      <td>yes</td>\n",
       "      <td>3</td>\n",
       "      <td>2101</td>\n",
       "      <td>no</td>\n",
       "      <td>no</td>\n",
       "      <td>0</td>\n",
       "    </tr>\n",
       "    <tr>\n",
       "      <th>1</th>\n",
       "      <td>no</td>\n",
       "      <td>10</td>\n",
       "      <td>3</td>\n",
       "      <td>2</td>\n",
       "      <td>60</td>\n",
       "      <td>0</td>\n",
       "      <td>18</td>\n",
       "      <td>479</td>\n",
       "      <td>no</td>\n",
       "      <td>no</td>\n",
       "      <td>...</td>\n",
       "      <td>7</td>\n",
       "      <td>0</td>\n",
       "      <td>0</td>\n",
       "      <td>yes</td>\n",
       "      <td>no</td>\n",
       "      <td>7</td>\n",
       "      <td>1644</td>\n",
       "      <td>yes</td>\n",
       "      <td>no</td>\n",
       "      <td>0</td>\n",
       "    </tr>\n",
       "    <tr>\n",
       "      <th>2</th>\n",
       "      <td>no</td>\n",
       "      <td>2</td>\n",
       "      <td>1</td>\n",
       "      <td>0</td>\n",
       "      <td>0</td>\n",
       "      <td>0</td>\n",
       "      <td>0</td>\n",
       "      <td>0</td>\n",
       "      <td>no</td>\n",
       "      <td>no</td>\n",
       "      <td>...</td>\n",
       "      <td>0</td>\n",
       "      <td>0</td>\n",
       "      <td>2</td>\n",
       "      <td>no</td>\n",
       "      <td>no</td>\n",
       "      <td>8</td>\n",
       "      <td>3197</td>\n",
       "      <td>yes</td>\n",
       "      <td>yes</td>\n",
       "      <td>0</td>\n",
       "    </tr>\n",
       "    <tr>\n",
       "      <th>3</th>\n",
       "      <td>no</td>\n",
       "      <td>2</td>\n",
       "      <td>11</td>\n",
       "      <td>1</td>\n",
       "      <td>125</td>\n",
       "      <td>0</td>\n",
       "      <td>73</td>\n",
       "      <td>217</td>\n",
       "      <td>no</td>\n",
       "      <td>no</td>\n",
       "      <td>...</td>\n",
       "      <td>0</td>\n",
       "      <td>0</td>\n",
       "      <td>0</td>\n",
       "      <td>yes</td>\n",
       "      <td>no</td>\n",
       "      <td>6</td>\n",
       "      <td>913</td>\n",
       "      <td>no</td>\n",
       "      <td>no</td>\n",
       "      <td>0</td>\n",
       "    </tr>\n",
       "    <tr>\n",
       "      <th>4</th>\n",
       "      <td>no</td>\n",
       "      <td>8</td>\n",
       "      <td>15</td>\n",
       "      <td>0</td>\n",
       "      <td>0</td>\n",
       "      <td>0</td>\n",
       "      <td>6</td>\n",
       "      <td>51</td>\n",
       "      <td>yes</td>\n",
       "      <td>no</td>\n",
       "      <td>...</td>\n",
       "      <td>0</td>\n",
       "      <td>2</td>\n",
       "      <td>1</td>\n",
       "      <td>yes</td>\n",
       "      <td>no</td>\n",
       "      <td>21</td>\n",
       "      <td>2009</td>\n",
       "      <td>yes</td>\n",
       "      <td>no</td>\n",
       "      <td>0</td>\n",
       "    </tr>\n",
       "    <tr>\n",
       "      <th>...</th>\n",
       "      <td>...</td>\n",
       "      <td>...</td>\n",
       "      <td>...</td>\n",
       "      <td>...</td>\n",
       "      <td>...</td>\n",
       "      <td>...</td>\n",
       "      <td>...</td>\n",
       "      <td>...</td>\n",
       "      <td>...</td>\n",
       "      <td>...</td>\n",
       "      <td>...</td>\n",
       "      <td>...</td>\n",
       "      <td>...</td>\n",
       "      <td>...</td>\n",
       "      <td>...</td>\n",
       "      <td>...</td>\n",
       "      <td>...</td>\n",
       "      <td>...</td>\n",
       "      <td>...</td>\n",
       "      <td>...</td>\n",
       "      <td>...</td>\n",
       "    </tr>\n",
       "    <tr>\n",
       "      <th>59995</th>\n",
       "      <td>no</td>\n",
       "      <td>5</td>\n",
       "      <td>1</td>\n",
       "      <td>0</td>\n",
       "      <td>0</td>\n",
       "      <td>0</td>\n",
       "      <td>0</td>\n",
       "      <td>0</td>\n",
       "      <td>no</td>\n",
       "      <td>no</td>\n",
       "      <td>...</td>\n",
       "      <td>0</td>\n",
       "      <td>0</td>\n",
       "      <td>0</td>\n",
       "      <td>yes</td>\n",
       "      <td>yes</td>\n",
       "      <td>11</td>\n",
       "      <td>2374</td>\n",
       "      <td>no</td>\n",
       "      <td>no</td>\n",
       "      <td>1</td>\n",
       "    </tr>\n",
       "    <tr>\n",
       "      <th>59996</th>\n",
       "      <td>no</td>\n",
       "      <td>9</td>\n",
       "      <td>12</td>\n",
       "      <td>0</td>\n",
       "      <td>78</td>\n",
       "      <td>0</td>\n",
       "      <td>59</td>\n",
       "      <td>1</td>\n",
       "      <td>yes</td>\n",
       "      <td>no</td>\n",
       "      <td>...</td>\n",
       "      <td>0</td>\n",
       "      <td>0</td>\n",
       "      <td>5</td>\n",
       "      <td>yes</td>\n",
       "      <td>no</td>\n",
       "      <td>2</td>\n",
       "      <td>1978</td>\n",
       "      <td>yes</td>\n",
       "      <td>no</td>\n",
       "      <td>1</td>\n",
       "    </tr>\n",
       "    <tr>\n",
       "      <th>59997</th>\n",
       "      <td>no</td>\n",
       "      <td>9</td>\n",
       "      <td>19</td>\n",
       "      <td>1</td>\n",
       "      <td>271</td>\n",
       "      <td>0</td>\n",
       "      <td>71</td>\n",
       "      <td>95</td>\n",
       "      <td>yes</td>\n",
       "      <td>no</td>\n",
       "      <td>...</td>\n",
       "      <td>0</td>\n",
       "      <td>0</td>\n",
       "      <td>3</td>\n",
       "      <td>no</td>\n",
       "      <td>no</td>\n",
       "      <td>2</td>\n",
       "      <td>2831</td>\n",
       "      <td>yes</td>\n",
       "      <td>yes</td>\n",
       "      <td>1</td>\n",
       "    </tr>\n",
       "    <tr>\n",
       "      <th>59998</th>\n",
       "      <td>no</td>\n",
       "      <td>10</td>\n",
       "      <td>23</td>\n",
       "      <td>0</td>\n",
       "      <td>76</td>\n",
       "      <td>6</td>\n",
       "      <td>20</td>\n",
       "      <td>107</td>\n",
       "      <td>no</td>\n",
       "      <td>no</td>\n",
       "      <td>...</td>\n",
       "      <td>0</td>\n",
       "      <td>1</td>\n",
       "      <td>0</td>\n",
       "      <td>no</td>\n",
       "      <td>no</td>\n",
       "      <td>9</td>\n",
       "      <td>3197</td>\n",
       "      <td>yes</td>\n",
       "      <td>no</td>\n",
       "      <td>1</td>\n",
       "    </tr>\n",
       "    <tr>\n",
       "      <th>59999</th>\n",
       "      <td>no</td>\n",
       "      <td>6</td>\n",
       "      <td>8</td>\n",
       "      <td>0</td>\n",
       "      <td>115</td>\n",
       "      <td>0</td>\n",
       "      <td>13</td>\n",
       "      <td>0</td>\n",
       "      <td>yes</td>\n",
       "      <td>no</td>\n",
       "      <td>...</td>\n",
       "      <td>0</td>\n",
       "      <td>0</td>\n",
       "      <td>4</td>\n",
       "      <td>no</td>\n",
       "      <td>no</td>\n",
       "      <td>11</td>\n",
       "      <td>2343</td>\n",
       "      <td>yes</td>\n",
       "      <td>no</td>\n",
       "      <td>1</td>\n",
       "    </tr>\n",
       "  </tbody>\n",
       "</table>\n",
       "<p>60000 rows × 21 columns</p>\n",
       "</div>"
      ],
      "text/plain": [
       "      converted  GameLevel  NumGameDays  NumGameDays4Plus  \\\n",
       "0            no          7           18                 0   \n",
       "1            no         10            3                 2   \n",
       "2            no          2            1                 0   \n",
       "3            no          2           11                 1   \n",
       "4            no          8           15                 0   \n",
       "...         ...        ...          ...               ...   \n",
       "59995        no          5            1                 0   \n",
       "59996        no          9           12                 0   \n",
       "59997        no          9           19                 1   \n",
       "59998        no         10           23                 0   \n",
       "59999        no          6            8                 0   \n",
       "\n",
       "       NumInGameMessagesSent  NumSpaceHeroBadges  NumFriendRequestIgnored  \\\n",
       "0                        124                   0                       81   \n",
       "1                         60                   0                       18   \n",
       "2                          0                   0                        0   \n",
       "3                        125                   0                       73   \n",
       "4                          0                   0                        6   \n",
       "...                      ...                 ...                      ...   \n",
       "59995                      0                   0                        0   \n",
       "59996                     78                   0                       59   \n",
       "59997                    271                   0                       71   \n",
       "59998                     76                   6                       20   \n",
       "59999                    115                   0                       13   \n",
       "\n",
       "       NumFriends AcquiredSpaceship AcquiredIonWeapon  ...  TimesKilled  \\\n",
       "0               0               yes                no  ...            0   \n",
       "1             479                no                no  ...            7   \n",
       "2               0                no                no  ...            0   \n",
       "3             217                no                no  ...            0   \n",
       "4              51               yes                no  ...            0   \n",
       "...           ...               ...               ...  ...          ...   \n",
       "59995           0                no                no  ...            0   \n",
       "59996           1               yes                no  ...            0   \n",
       "59997          95               yes                no  ...            0   \n",
       "59998         107                no                no  ...            0   \n",
       "59999           0               yes                no  ...            0   \n",
       "\n",
       "       TimesCaptain  TimesNavigator  PurchasedCoinPackSmall  \\\n",
       "0                 0               4                      no   \n",
       "1                 0               0                     yes   \n",
       "2                 0               2                      no   \n",
       "3                 0               0                     yes   \n",
       "4                 2               1                     yes   \n",
       "...             ...             ...                     ...   \n",
       "59995             0               0                     yes   \n",
       "59996             0               5                     yes   \n",
       "59997             0               3                      no   \n",
       "59998             1               0                      no   \n",
       "59999             0               4                      no   \n",
       "\n",
       "      PurchasedCoinPackLarge NumAdsClicked  DaysUser  UserConsole  \\\n",
       "0                        yes             3      2101           no   \n",
       "1                         no             7      1644          yes   \n",
       "2                         no             8      3197          yes   \n",
       "3                         no             6       913           no   \n",
       "4                         no            21      2009          yes   \n",
       "...                      ...           ...       ...          ...   \n",
       "59995                    yes            11      2374           no   \n",
       "59996                     no             2      1978          yes   \n",
       "59997                     no             2      2831          yes   \n",
       "59998                     no             9      3197          yes   \n",
       "59999                     no            11      2343          yes   \n",
       "\n",
       "      UserHasOldOS ad  \n",
       "0               no  0  \n",
       "1               no  0  \n",
       "2              yes  0  \n",
       "3               no  0  \n",
       "4               no  0  \n",
       "...            ... ..  \n",
       "59995           no  1  \n",
       "59996           no  1  \n",
       "59997          yes  1  \n",
       "59998           no  1  \n",
       "59999           no  1  \n",
       "\n",
       "[60000 rows x 21 columns]"
      ]
     },
     "execution_count": 5,
     "metadata": {},
     "output_type": "execute_result"
    }
   ],
   "source": [
    "cg_rct_stacked = pd.concat([cg_organic_control, cg_ad_random]).reset_index(drop=True)\n",
    "cg_rct_stacked"
   ]
  },
  {
   "attachments": {},
   "cell_type": "markdown",
   "metadata": {},
   "source": [
    "d. Create a training variable and ensure the proportion of \"yes\" and \"no\" values is as close as possible across the 4 sub-sets of data (i.e., training and test for ad == 0 and training and test for ad == 1). Use 1234 as the seed. Use “converted” and “ad” as the blocking variables.\n",
    "Hint: Review the uplift demo code for an example of how to set this up. \n"
   ]
  },
  {
   "cell_type": "code",
   "execution_count": 6,
   "metadata": {},
   "outputs": [
    {
     "data": {
      "text/html": [
       "<div>\n",
       "<style scoped>\n",
       "    .dataframe tbody tr th:only-of-type {\n",
       "        vertical-align: middle;\n",
       "    }\n",
       "\n",
       "    .dataframe tbody tr th {\n",
       "        vertical-align: top;\n",
       "    }\n",
       "\n",
       "    .dataframe thead tr th {\n",
       "        text-align: left;\n",
       "    }\n",
       "\n",
       "    .dataframe thead tr:last-of-type th {\n",
       "        text-align: right;\n",
       "    }\n",
       "</style>\n",
       "<table border=\"1\" class=\"dataframe\">\n",
       "  <thead>\n",
       "    <tr>\n",
       "      <th>ad</th>\n",
       "      <th colspan=\"2\" halign=\"left\">0</th>\n",
       "      <th colspan=\"2\" halign=\"left\">1</th>\n",
       "    </tr>\n",
       "    <tr>\n",
       "      <th>training</th>\n",
       "      <th>0</th>\n",
       "      <th>1</th>\n",
       "      <th>0</th>\n",
       "      <th>1</th>\n",
       "    </tr>\n",
       "    <tr>\n",
       "      <th>converted</th>\n",
       "      <th></th>\n",
       "      <th></th>\n",
       "      <th></th>\n",
       "      <th></th>\n",
       "    </tr>\n",
       "  </thead>\n",
       "  <tbody>\n",
       "    <tr>\n",
       "      <th>yes</th>\n",
       "      <td>853</td>\n",
       "      <td>853</td>\n",
       "      <td>1956</td>\n",
       "      <td>1957</td>\n",
       "    </tr>\n",
       "    <tr>\n",
       "      <th>no</th>\n",
       "      <td>14147</td>\n",
       "      <td>14147</td>\n",
       "      <td>13044</td>\n",
       "      <td>13043</td>\n",
       "    </tr>\n",
       "  </tbody>\n",
       "</table>\n",
       "</div>"
      ],
      "text/plain": [
       "ad             0             1       \n",
       "training       0      1      0      1\n",
       "converted                            \n",
       "yes          853    853   1956   1957\n",
       "no         14147  14147  13044  13043"
      ]
     },
     "execution_count": 6,
     "metadata": {},
     "output_type": "execute_result"
    }
   ],
   "source": [
    "from sklearn.model_selection import StratifiedShuffleSplit\n",
    "sss = StratifiedShuffleSplit(n_splits=1, test_size=0.5, random_state=1234)\n",
    "\n",
    "cg_rct_stacked[\"training\"] = 0\n",
    "for train_index, test_index in sss.split(cg_rct_stacked, cg_rct_stacked[[\"converted\", \"ad\"]]):\n",
    "    cg_rct_stacked.iloc[train_index, cg_rct_stacked.columns.get_loc(\"training\")] = 1\n",
    "\n",
    "\n",
    "# extra check that the total number of yes/no values is no more than 1 off between the training and test set\n",
    "pd.crosstab(cg_rct_stacked.converted, [cg_rct_stacked.ad, cg_rct_stacked.training]).round(3)"
   ]
  },
  {
   "cell_type": "code",
   "execution_count": 7,
   "metadata": {},
   "outputs": [],
   "source": [
    "from sklearn.model_selection import StratifiedShuffleSplit\n",
    "sss = StratifiedShuffleSplit(n_splits=1, test_size=0.3, random_state=1234)\n",
    "\n",
    "cg_rct_stacked[\"training\"] = 0\n",
    "for train_index, test_index in sss.split(cg_rct_stacked, cg_rct_stacked[[\"converted\", \"ad\"]]):\n",
    "    cg_rct_stacked.iloc[train_index, cg_rct_stacked.columns.get_loc(\"training\")] = 1"
   ]
  },
  {
   "cell_type": "markdown",
   "metadata": {},
   "source": [
    "e.\tCheck if the probability of yes/no is similar across the training and test sets for ad == 0 and ad == 1. The response rate does not have to be exactly the same in the ad == 0 and ad == 1 sections of the data. However, within ad == 0, the ratio of yes/no should be very similar for the training and test sets. Similarly, within ad == 1, the ratio of yes/no should be very similar for the training and test set. "
   ]
  },
  {
   "cell_type": "code",
   "execution_count": 8,
   "metadata": {},
   "outputs": [
    {
     "data": {
      "text/html": [
       "<div>\n",
       "<style scoped>\n",
       "    .dataframe tbody tr th:only-of-type {\n",
       "        vertical-align: middle;\n",
       "    }\n",
       "\n",
       "    .dataframe tbody tr th {\n",
       "        vertical-align: top;\n",
       "    }\n",
       "\n",
       "    .dataframe thead tr th {\n",
       "        text-align: left;\n",
       "    }\n",
       "\n",
       "    .dataframe thead tr:last-of-type th {\n",
       "        text-align: right;\n",
       "    }\n",
       "</style>\n",
       "<table border=\"1\" class=\"dataframe\">\n",
       "  <thead>\n",
       "    <tr>\n",
       "      <th>ad</th>\n",
       "      <th colspan=\"2\" halign=\"left\">0</th>\n",
       "      <th colspan=\"2\" halign=\"left\">1</th>\n",
       "    </tr>\n",
       "    <tr>\n",
       "      <th>training</th>\n",
       "      <th>0</th>\n",
       "      <th>1</th>\n",
       "      <th>0</th>\n",
       "      <th>1</th>\n",
       "    </tr>\n",
       "    <tr>\n",
       "      <th>converted</th>\n",
       "      <th></th>\n",
       "      <th></th>\n",
       "      <th></th>\n",
       "      <th></th>\n",
       "    </tr>\n",
       "  </thead>\n",
       "  <tbody>\n",
       "    <tr>\n",
       "      <th>yes</th>\n",
       "      <td>0.057</td>\n",
       "      <td>0.057</td>\n",
       "      <td>0.13</td>\n",
       "      <td>0.13</td>\n",
       "    </tr>\n",
       "    <tr>\n",
       "      <th>no</th>\n",
       "      <td>0.943</td>\n",
       "      <td>0.943</td>\n",
       "      <td>0.87</td>\n",
       "      <td>0.87</td>\n",
       "    </tr>\n",
       "  </tbody>\n",
       "</table>\n",
       "</div>"
      ],
      "text/plain": [
       "ad             0            1      \n",
       "training       0      1     0     1\n",
       "converted                          \n",
       "yes        0.057  0.057  0.13  0.13\n",
       "no         0.943  0.943  0.87  0.87"
      ]
     },
     "execution_count": 8,
     "metadata": {},
     "output_type": "execute_result"
    }
   ],
   "source": [
    "pd.crosstab(\n",
    "   cg_rct_stacked.converted, [cg_rct_stacked.ad, cg_rct_stacked.training], normalize=\"columns\"\n",
    ").round(3)\n"
   ]
  },
  {
   "attachments": {},
   "cell_type": "markdown",
   "metadata": {},
   "source": [
    "> Note: For 2022, only a RandomForest was requied\n",
    "\n",
    "2. Train an uplift model using Logistic Regression. Add the predicted scores for the treatment and control models, i.e., pred_control and pred_treatment, to cg_rct_stacked (or add them to a separate DataFrame called pred_store) and calculate the uplift score. (3 points)"
   ]
  },
  {
   "cell_type": "code",
   "execution_count": 9,
   "metadata": {},
   "outputs": [
    {
     "name": "stdout",
     "output_type": "stream",
     "text": [
      "\n",
      "Pseudo R-squared (McFadden): 0.096\n",
      "Pseudo R-squared (McFadden adjusted): 0.094\n",
      "Area under the RO Curve (AUC): 0.712\n",
      "Log-likelihood: -7346.776, AIC: 14733.552, BIC: 14892.598\n",
      "Chi-squared: 20998.413 df(19), p.value < 0.001 \n",
      "Nr obs: 21,000\n",
      "\n"
     ]
    }
   ],
   "source": [
    "## Store information for upcoming graphs and tasbles\n",
    "pred_store = cg_rct_stacked[[\"converted\", \"ad\", \"training\"]].copy()\n",
    "\n",
    "cg_rct_stacked[\"converted_yes\"] = rsm.ifelse(cg_rct_stacked.converted == \"yes\", 1, 0)\n",
    "formula = (\n",
    "    \"converted_yes ~ \"\n",
    "    + \" + \".join(cg_rct_stacked.loc[:, \"GameLevel\":\"UserHasOldOS\"].columns)\n",
    "    + \"- training - converted\"\n",
    ")\n",
    "lr_ad = smf.glm(\n",
    "    formula=formula,\n",
    "    family=Binomial(link=logit()),\n",
    "    data=cg_rct_stacked[(cg_rct_stacked.training == 1) & (cg_rct_stacked.ad == 1)],\n",
    ").fit()\n",
    "rsm.model_fit(lr_ad)\n",
    "rsm.or_ci(lr_ad)\n",
    "\n",
    "pred_store[\"pred_lr_ad\"] = lr_ad.predict(cg_rct_stacked)"
   ]
  },
  {
   "cell_type": "code",
   "execution_count": 10,
   "metadata": {},
   "outputs": [
    {
     "name": "stdout",
     "output_type": "stream",
     "text": [
      "\n",
      "Pseudo R-squared (McFadden): 0.202\n",
      "Pseudo R-squared (McFadden adjusted): 0.198\n",
      "Area under the RO Curve (AUC): 0.831\n",
      "Log-likelihood: -3656.883, AIC: 7353.766, BIC: 7512.812\n",
      "Chi-squared: 27926.665 df(19), p.value < 0.001 \n",
      "Nr obs: 21,000\n",
      "\n"
     ]
    }
   ],
   "source": [
    "## Question answers\n",
    "cg_rct_stacked[\"converted_yes\"] = rsm.ifelse(cg_rct_stacked.converted == \"yes\", 1, 0)\n",
    "formula = (\n",
    "    \"converted_yes ~ \"\n",
    "    + \" + \".join(cg_rct_stacked.loc[:, \"GameLevel\":\"UserHasOldOS\"].columns)\n",
    "    + \"- training - converted\"\n",
    ")\n",
    "lr_no_ad = smf.glm(\n",
    "    formula=formula,\n",
    "    family=Binomial(link=logit()),\n",
    "    data=cg_rct_stacked[(cg_rct_stacked.training == 1) & (cg_rct_stacked.ad == 0)],\n",
    ").fit()\n",
    "rsm.model_fit(lr_no_ad)\n",
    "rsm.or_ci(lr_no_ad)\n",
    "\n",
    "pred_store[\"pred_lr_no_ad\"] = lr_no_ad.predict(cg_rct_stacked)"
   ]
  },
  {
   "cell_type": "code",
   "execution_count": 11,
   "metadata": {},
   "outputs": [],
   "source": [
    "pred_store[\"pred_lr_ad\"] = lr_ad.predict(cg_rct_stacked)\n",
    "pred_store[\"pred_lr_no_akad\"] = lr_no_ad.predict(cg_rct_stacked)\n",
    "pred_store[\"lr_uplift_score\"] = pred_store.pred_lr_ad - pred_store.pred_lr_no_ad"
   ]
  },
  {
   "attachments": {},
   "cell_type": "markdown",
   "metadata": {},
   "source": [
    "3.\tCalculate the Uplift (%) and Incremental Uplift (%) for the uplift model (use 20 instead of the standard 10 groups) and plot performance metrics. Interpret the plots. (3 points)\n",
    "\n",
    "> Hint: Use functions from the pyrsm package (version 0.7.5 or newer) to generate the uplift table (uplift_tab), the incremental uplift (inc_uplift_plot), and the uplift plot (uplift_plot). \n"
   ]
  },
  {
   "cell_type": "code",
   "execution_count": 12,
   "metadata": {},
   "outputs": [
    {
     "data": {
      "text/html": [
       "<div>\n",
       "<style scoped>\n",
       "    .dataframe tbody tr th:only-of-type {\n",
       "        vertical-align: middle;\n",
       "    }\n",
       "\n",
       "    .dataframe tbody tr th {\n",
       "        vertical-align: top;\n",
       "    }\n",
       "\n",
       "    .dataframe thead th {\n",
       "        text-align: right;\n",
       "    }\n",
       "</style>\n",
       "<table border=\"1\" class=\"dataframe\">\n",
       "  <thead>\n",
       "    <tr style=\"text-align: right;\">\n",
       "      <th></th>\n",
       "      <th>pred</th>\n",
       "      <th>bins</th>\n",
       "      <th>cum_prop</th>\n",
       "      <th>T_resp</th>\n",
       "      <th>T_n</th>\n",
       "      <th>C_resp</th>\n",
       "      <th>C_n</th>\n",
       "      <th>incremental_resp</th>\n",
       "      <th>inc_uplift</th>\n",
       "      <th>uplift</th>\n",
       "    </tr>\n",
       "  </thead>\n",
       "  <tbody>\n",
       "    <tr>\n",
       "      <th>0</th>\n",
       "      <td>lr_uplift_score</td>\n",
       "      <td>1</td>\n",
       "      <td>0.05</td>\n",
       "      <td>197</td>\n",
       "      <td>450</td>\n",
       "      <td>70</td>\n",
       "      <td>634</td>\n",
       "      <td>147.315457</td>\n",
       "      <td>1.636838</td>\n",
       "      <td>0.327368</td>\n",
       "    </tr>\n",
       "    <tr>\n",
       "      <th>1</th>\n",
       "      <td>lr_uplift_score</td>\n",
       "      <td>2</td>\n",
       "      <td>0.10</td>\n",
       "      <td>309</td>\n",
       "      <td>900</td>\n",
       "      <td>99</td>\n",
       "      <td>1182</td>\n",
       "      <td>233.619289</td>\n",
       "      <td>2.595770</td>\n",
       "      <td>0.195969</td>\n",
       "    </tr>\n",
       "    <tr>\n",
       "      <th>2</th>\n",
       "      <td>lr_uplift_score</td>\n",
       "      <td>3</td>\n",
       "      <td>0.15</td>\n",
       "      <td>428</td>\n",
       "      <td>1350</td>\n",
       "      <td>125</td>\n",
       "      <td>1686</td>\n",
       "      <td>327.911032</td>\n",
       "      <td>3.643456</td>\n",
       "      <td>0.212857</td>\n",
       "    </tr>\n",
       "    <tr>\n",
       "      <th>3</th>\n",
       "      <td>lr_uplift_score</td>\n",
       "      <td>4</td>\n",
       "      <td>0.20</td>\n",
       "      <td>528</td>\n",
       "      <td>1800</td>\n",
       "      <td>152</td>\n",
       "      <td>2175</td>\n",
       "      <td>402.206897</td>\n",
       "      <td>4.468966</td>\n",
       "      <td>0.167007</td>\n",
       "    </tr>\n",
       "    <tr>\n",
       "      <th>4</th>\n",
       "      <td>lr_uplift_score</td>\n",
       "      <td>5</td>\n",
       "      <td>0.25</td>\n",
       "      <td>594</td>\n",
       "      <td>2250</td>\n",
       "      <td>166</td>\n",
       "      <td>2684</td>\n",
       "      <td>454.842027</td>\n",
       "      <td>5.053800</td>\n",
       "      <td>0.119162</td>\n",
       "    </tr>\n",
       "    <tr>\n",
       "      <th>5</th>\n",
       "      <td>lr_uplift_score</td>\n",
       "      <td>6</td>\n",
       "      <td>0.30</td>\n",
       "      <td>642</td>\n",
       "      <td>2700</td>\n",
       "      <td>183</td>\n",
       "      <td>3150</td>\n",
       "      <td>485.142857</td>\n",
       "      <td>5.390476</td>\n",
       "      <td>0.070186</td>\n",
       "    </tr>\n",
       "    <tr>\n",
       "      <th>6</th>\n",
       "      <td>lr_uplift_score</td>\n",
       "      <td>7</td>\n",
       "      <td>0.35</td>\n",
       "      <td>681</td>\n",
       "      <td>3150</td>\n",
       "      <td>195</td>\n",
       "      <td>3658</td>\n",
       "      <td>513.080372</td>\n",
       "      <td>5.700893</td>\n",
       "      <td>0.063045</td>\n",
       "    </tr>\n",
       "    <tr>\n",
       "      <th>7</th>\n",
       "      <td>lr_uplift_score</td>\n",
       "      <td>8</td>\n",
       "      <td>0.40</td>\n",
       "      <td>719</td>\n",
       "      <td>3600</td>\n",
       "      <td>200</td>\n",
       "      <td>4127</td>\n",
       "      <td>544.539133</td>\n",
       "      <td>6.050435</td>\n",
       "      <td>0.073783</td>\n",
       "    </tr>\n",
       "    <tr>\n",
       "      <th>8</th>\n",
       "      <td>lr_uplift_score</td>\n",
       "      <td>9</td>\n",
       "      <td>0.45</td>\n",
       "      <td>756</td>\n",
       "      <td>4050</td>\n",
       "      <td>210</td>\n",
       "      <td>4577</td>\n",
       "      <td>570.179594</td>\n",
       "      <td>6.335329</td>\n",
       "      <td>0.060000</td>\n",
       "    </tr>\n",
       "    <tr>\n",
       "      <th>9</th>\n",
       "      <td>lr_uplift_score</td>\n",
       "      <td>10</td>\n",
       "      <td>0.50</td>\n",
       "      <td>791</td>\n",
       "      <td>4500</td>\n",
       "      <td>231</td>\n",
       "      <td>5076</td>\n",
       "      <td>586.212766</td>\n",
       "      <td>6.513475</td>\n",
       "      <td>0.035694</td>\n",
       "    </tr>\n",
       "    <tr>\n",
       "      <th>10</th>\n",
       "      <td>lr_uplift_score</td>\n",
       "      <td>11</td>\n",
       "      <td>0.55</td>\n",
       "      <td>831</td>\n",
       "      <td>4950</td>\n",
       "      <td>249</td>\n",
       "      <td>5555</td>\n",
       "      <td>609.118812</td>\n",
       "      <td>6.767987</td>\n",
       "      <td>0.051311</td>\n",
       "    </tr>\n",
       "    <tr>\n",
       "      <th>11</th>\n",
       "      <td>lr_uplift_score</td>\n",
       "      <td>12</td>\n",
       "      <td>0.60</td>\n",
       "      <td>859</td>\n",
       "      <td>5400</td>\n",
       "      <td>262</td>\n",
       "      <td>6031</td>\n",
       "      <td>624.412038</td>\n",
       "      <td>6.937912</td>\n",
       "      <td>0.034911</td>\n",
       "    </tr>\n",
       "    <tr>\n",
       "      <th>12</th>\n",
       "      <td>lr_uplift_score</td>\n",
       "      <td>13</td>\n",
       "      <td>0.65</td>\n",
       "      <td>892</td>\n",
       "      <td>5850</td>\n",
       "      <td>275</td>\n",
       "      <td>6486</td>\n",
       "      <td>643.965772</td>\n",
       "      <td>7.155175</td>\n",
       "      <td>0.044762</td>\n",
       "    </tr>\n",
       "    <tr>\n",
       "      <th>13</th>\n",
       "      <td>lr_uplift_score</td>\n",
       "      <td>14</td>\n",
       "      <td>0.70</td>\n",
       "      <td>937</td>\n",
       "      <td>6300</td>\n",
       "      <td>288</td>\n",
       "      <td>6938</td>\n",
       "      <td>675.483713</td>\n",
       "      <td>7.505375</td>\n",
       "      <td>0.071239</td>\n",
       "    </tr>\n",
       "    <tr>\n",
       "      <th>14</th>\n",
       "      <td>lr_uplift_score</td>\n",
       "      <td>15</td>\n",
       "      <td>0.75</td>\n",
       "      <td>980</td>\n",
       "      <td>6750</td>\n",
       "      <td>298</td>\n",
       "      <td>7384</td>\n",
       "      <td>707.586674</td>\n",
       "      <td>7.862074</td>\n",
       "      <td>0.073134</td>\n",
       "    </tr>\n",
       "    <tr>\n",
       "      <th>15</th>\n",
       "      <td>lr_uplift_score</td>\n",
       "      <td>16</td>\n",
       "      <td>0.80</td>\n",
       "      <td>1014</td>\n",
       "      <td>7200</td>\n",
       "      <td>312</td>\n",
       "      <td>7805</td>\n",
       "      <td>726.184497</td>\n",
       "      <td>8.068717</td>\n",
       "      <td>0.042301</td>\n",
       "    </tr>\n",
       "    <tr>\n",
       "      <th>16</th>\n",
       "      <td>lr_uplift_score</td>\n",
       "      <td>17</td>\n",
       "      <td>0.85</td>\n",
       "      <td>1047</td>\n",
       "      <td>7650</td>\n",
       "      <td>319</td>\n",
       "      <td>8224</td>\n",
       "      <td>750.264835</td>\n",
       "      <td>8.336276</td>\n",
       "      <td>0.056627</td>\n",
       "    </tr>\n",
       "    <tr>\n",
       "      <th>17</th>\n",
       "      <td>lr_uplift_score</td>\n",
       "      <td>18</td>\n",
       "      <td>0.90</td>\n",
       "      <td>1079</td>\n",
       "      <td>8100</td>\n",
       "      <td>360</td>\n",
       "      <td>8621</td>\n",
       "      <td>740.756177</td>\n",
       "      <td>8.230624</td>\n",
       "      <td>-0.032163</td>\n",
       "    </tr>\n",
       "    <tr>\n",
       "      <th>18</th>\n",
       "      <td>lr_uplift_score</td>\n",
       "      <td>19</td>\n",
       "      <td>0.95</td>\n",
       "      <td>1134</td>\n",
       "      <td>8550</td>\n",
       "      <td>432</td>\n",
       "      <td>8831</td>\n",
       "      <td>715.746122</td>\n",
       "      <td>7.952735</td>\n",
       "      <td>-0.220635</td>\n",
       "    </tr>\n",
       "    <tr>\n",
       "      <th>19</th>\n",
       "      <td>lr_uplift_score</td>\n",
       "      <td>20</td>\n",
       "      <td>1.00</td>\n",
       "      <td>1174</td>\n",
       "      <td>9000</td>\n",
       "      <td>512</td>\n",
       "      <td>9000</td>\n",
       "      <td>662.000000</td>\n",
       "      <td>7.355556</td>\n",
       "      <td>-0.384484</td>\n",
       "    </tr>\n",
       "  </tbody>\n",
       "</table>\n",
       "</div>"
      ],
      "text/plain": [
       "               pred  bins  cum_prop  T_resp   T_n  C_resp   C_n  \\\n",
       "0   lr_uplift_score     1      0.05     197   450      70   634   \n",
       "1   lr_uplift_score     2      0.10     309   900      99  1182   \n",
       "2   lr_uplift_score     3      0.15     428  1350     125  1686   \n",
       "3   lr_uplift_score     4      0.20     528  1800     152  2175   \n",
       "4   lr_uplift_score     5      0.25     594  2250     166  2684   \n",
       "5   lr_uplift_score     6      0.30     642  2700     183  3150   \n",
       "6   lr_uplift_score     7      0.35     681  3150     195  3658   \n",
       "7   lr_uplift_score     8      0.40     719  3600     200  4127   \n",
       "8   lr_uplift_score     9      0.45     756  4050     210  4577   \n",
       "9   lr_uplift_score    10      0.50     791  4500     231  5076   \n",
       "10  lr_uplift_score    11      0.55     831  4950     249  5555   \n",
       "11  lr_uplift_score    12      0.60     859  5400     262  6031   \n",
       "12  lr_uplift_score    13      0.65     892  5850     275  6486   \n",
       "13  lr_uplift_score    14      0.70     937  6300     288  6938   \n",
       "14  lr_uplift_score    15      0.75     980  6750     298  7384   \n",
       "15  lr_uplift_score    16      0.80    1014  7200     312  7805   \n",
       "16  lr_uplift_score    17      0.85    1047  7650     319  8224   \n",
       "17  lr_uplift_score    18      0.90    1079  8100     360  8621   \n",
       "18  lr_uplift_score    19      0.95    1134  8550     432  8831   \n",
       "19  lr_uplift_score    20      1.00    1174  9000     512  9000   \n",
       "\n",
       "    incremental_resp  inc_uplift    uplift  \n",
       "0         147.315457    1.636838  0.327368  \n",
       "1         233.619289    2.595770  0.195969  \n",
       "2         327.911032    3.643456  0.212857  \n",
       "3         402.206897    4.468966  0.167007  \n",
       "4         454.842027    5.053800  0.119162  \n",
       "5         485.142857    5.390476  0.070186  \n",
       "6         513.080372    5.700893  0.063045  \n",
       "7         544.539133    6.050435  0.073783  \n",
       "8         570.179594    6.335329  0.060000  \n",
       "9         586.212766    6.513475  0.035694  \n",
       "10        609.118812    6.767987  0.051311  \n",
       "11        624.412038    6.937912  0.034911  \n",
       "12        643.965772    7.155175  0.044762  \n",
       "13        675.483713    7.505375  0.071239  \n",
       "14        707.586674    7.862074  0.073134  \n",
       "15        726.184497    8.068717  0.042301  \n",
       "16        750.264835    8.336276  0.056627  \n",
       "17        740.756177    8.230624 -0.032163  \n",
       "18        715.746122    7.952735 -0.220635  \n",
       "19        662.000000    7.355556 -0.384484  "
      ]
     },
     "execution_count": 12,
     "metadata": {},
     "output_type": "execute_result"
    }
   ],
   "source": [
    "tab_lr = rsm.uplift_tab(\n",
    "    pred_store.query(\"training == 0\"), \"converted\", \"yes\", \"lr_uplift_score\", \"ad\", 1, qnt = 20\n",
    ")\n",
    "tab_lr"
   ]
  },
  {
   "attachments": {},
   "cell_type": "markdown",
   "metadata": {},
   "source": [
    "4. Using the incremental_resp column from the performance metric table created through the uplift_tab function, calculate the incremental profit you expect to make if you targeted the best 30,000 customers of 120,000 using the uplift model. (3 points)\n",
    "\n",
    "> Hint: For every n-tile, the incremental_resp tells you how many incremental purchases were made when customers up to that n-tile were targeted. To extrapolate to the best 30,000 from 120,000, notice that there are a total of 9,000 customers who got the ad in cg_rct_stacked\n"
   ]
  },
  {
   "cell_type": "code",
   "execution_count": 13,
   "metadata": {},
   "outputs": [
    {
     "data": {
      "text/plain": [
       "'Incremental profit from Logistic Regression Uplift: $45,907.76'"
      ]
     },
     "execution_count": 13,
     "metadata": {},
     "output_type": "execute_result"
    }
   ],
   "source": [
    "incr_profit_uplift_lr = (14.99 * tab_lr.loc[4, \"incremental_resp\"] - 1.5*9000*0.25) * 120000/9000\n",
    "f\"Incremental profit from Logistic Regression Uplift: ${incr_profit_uplift_lr:,.2f}\""
   ]
  },
  {
   "attachments": {},
   "cell_type": "markdown",
   "metadata": {},
   "source": [
    "5. Calculate the Uplift (%) and Incremental Uplift (%) you would get if you used a propensity model (use 20 instead of the standard 10 groups). Compare the performance metrics between the uplift and propensity models and interpret the differences. (3 points)\n",
    "\n",
    ">Hint: Use uplift and incremental uplift plots to compare the uplift and propensity models "
   ]
  },
  {
   "attachments": {},
   "cell_type": "markdown",
   "metadata": {},
   "source": [
    "It is helpful to compare the multiple models on the same graph. The `inc_uplift_plot` and `uplift_plot` functions can do this:\n",
    "\n",
    "The uplift model dominates provided we are targeting at least 15-20% of customers (that it does not dominate before we target that many suggests there are no \"Sure Things\" in this data). It also relegates all the \"Do Not Disturbs\" into the last 10-15% of targeted consumers."
   ]
  },
  {
   "cell_type": "code",
   "execution_count": 14,
   "metadata": {},
   "outputs": [
    {
     "data": {
      "image/png": "[encoded data removed]",
      "text/plain": [
       "<Figure size 640x480 with 1 Axes>"
      ]
     },
     "metadata": {},
     "output_type": "display_data"
    }
   ],
   "source": [
    "fig = rsm.inc_uplift_plot(\n",
    "    pred_store.query(\"training == 0\"), \"converted\", \"yes\", [\"lr_uplift_score\", \"pred_lr_ad\"], \"ad\", 1, qnt = 20\n",
    ")"
   ]
  },
  {
   "cell_type": "code",
   "execution_count": 15,
   "metadata": {},
   "outputs": [
    {
     "data": {
      "image/png": "[encoded data removed]",
      "text/plain": [
       "<Figure size 640x480 with 1 Axes>"
      ]
     },
     "metadata": {},
     "output_type": "display_data"
    }
   ],
   "source": [
    "fig = rsm.uplift_plot(\n",
    "    pred_store.query(\"training == 0\"), \"converted\", \"yes\", [\"lr_uplift_score\", \"pred_lr_ad\"], \"ad\", 1, qnt = 20\n",
    ")"
   ]
  },
  {
   "attachments": {},
   "cell_type": "markdown",
   "metadata": {},
   "source": [
    "We can probe this by examining our two predictions for each customer\n"
   ]
  },
  {
   "cell_type": "code",
   "execution_count": 16,
   "metadata": {},
   "outputs": [
    {
     "data": {
      "image/png": "[encoded data removed]",
      "text/plain": [
       "<Figure size 640x480 with 1 Axes>"
      ]
     },
     "metadata": {},
     "output_type": "display_data"
    }
   ],
   "source": [
    "smp = pred_store[[\"pred_lr_no_ad\", \"pred_lr_ad\"]].sample(n=30000, random_state=1234)\n",
    "fig = sns.scatterplot(x = smp[\"pred_lr_no_ad\"], y = smp[\"pred_lr_ad\"])\n",
    "fig.set(ylim=(0, 1), xlim=(0,1))\n",
    "fig.text(0.05, 0.05, \"Lost Causes\", size=\"large\", color='red', weight='bold')\n",
    "fig.text(0.05, 0.95, \"Persuadables\", size='large', color='red', weight='bold')\n",
    "fig.text(0.95, 0.95, \"Sure things\", size='large', color='red', weight='bold', horizontalalignment=\"right\")\n",
    "fig = fig.text(0.95, 0.05, \"Do not disturb\", size='large', color='red', weight='bold', horizontalalignment=\"right\")\n"
   ]
  },
  {
   "cell_type": "code",
   "execution_count": 17,
   "metadata": {},
   "outputs": [
    {
     "data": {
      "text/plain": [
       "'Incremental profit from logistic regression propensity-to-buy: $32,065.48'"
      ]
     },
     "execution_count": 17,
     "metadata": {},
     "output_type": "execute_result"
    }
   ],
   "source": [
    "tab_lr_propensity = rsm.uplift_tab(\n",
    "    pred_store.query(\"training == 0\"), \"converted\", \"yes\", \"pred_lr_ad\", \"ad\", 1, qnt = 20\n",
    ")\n",
    "\n",
    "incr_profit_uplift_lr_propensity = (14.99 * tab_lr_propensity.loc[4, \"incremental_resp\"] - 1.5*9000*0.25) * 120000/9000\n",
    "f\"Incremental profit from logistic regression propensity-to-buy: ${incr_profit_uplift_lr_propensity:,.2f}\""
   ]
  },
  {
   "cell_type": "code",
   "execution_count": 18,
   "metadata": {},
   "outputs": [
    {
     "data": {
      "text/plain": [
       "'We make more using uplift than propensity by $13,842.28'"
      ]
     },
     "execution_count": 18,
     "metadata": {},
     "output_type": "execute_result"
    }
   ],
   "source": [
    "f\"We make more using uplift than propensity by ${incr_profit_uplift_lr - incr_profit_uplift_lr_propensity:,.2f}\""
   ]
  },
  {
   "attachments": {},
   "cell_type": "markdown",
   "metadata": {},
   "source": [
    "7. Repeat steps 2-6 using a Random Forest model. (5 points)\n",
    "\n",
    "For RF: 2. Train an uplift model using a Random Forest. Add the predicted scores for the treatment and control models, i.e., pred_control and pred_treatment, to cg_rct_stacked (or add them to a separate DataFrame called pred_store) and calculate the uplift score. (3 points)"
   ]
  },
  {
   "cell_type": "code",
   "execution_count": 19,
   "metadata": {},
   "outputs": [
    {
     "data": {
      "text/plain": [
       "['GameLevel',\n",
       " 'NumGameDays',\n",
       " 'NumGameDays4Plus',\n",
       " 'NumInGameMessagesSent',\n",
       " 'NumSpaceHeroBadges',\n",
       " 'NumFriendRequestIgnored',\n",
       " 'NumFriends',\n",
       " 'TimesLostSpaceship',\n",
       " 'TimesKilled',\n",
       " 'TimesCaptain',\n",
       " 'TimesNavigator',\n",
       " 'NumAdsClicked',\n",
       " 'DaysUser']"
      ]
     },
     "execution_count": 19,
     "metadata": {},
     "output_type": "execute_result"
    }
   ],
   "source": [
    "is_num = [\n",
    "    c for c in cg_rct_stacked.columns \n",
    "    if pd.api.types.is_numeric_dtype(cg_rct_stacked[c].dtype) and c not in [\"ad\", \"training\", \"converted_yes\"]\n",
    "]\n",
    "is_num"
   ]
  },
  {
   "cell_type": "code",
   "execution_count": 20,
   "metadata": {},
   "outputs": [
    {
     "data": {
      "text/plain": [
       "['AcquiredSpaceship',\n",
       " 'AcquiredIonWeapon',\n",
       " 'PurchasedCoinPackSmall',\n",
       " 'PurchasedCoinPackLarge',\n",
       " 'UserConsole',\n",
       " 'UserHasOldOS']"
      ]
     },
     "execution_count": 20,
     "metadata": {},
     "output_type": "execute_result"
    }
   ],
   "source": [
    "is_not_num = [\n",
    "    c for c in cg_rct_stacked.columns \n",
    "    if not pd.api.types.is_numeric_dtype(cg_rct_stacked[c].dtype) and not c == \"converted\"\n",
    "]\n",
    "is_not_num"
   ]
  },
  {
   "cell_type": "code",
   "execution_count": 21,
   "metadata": {},
   "outputs": [],
   "source": [
    "X = pd.concat(\n",
    "    [\n",
    "        cg_rct_stacked[is_num],\n",
    "        pd.get_dummies(cg_rct_stacked[is_not_num], drop_first=True),\n",
    "    ],\n",
    "    axis=1,\n",
    ")\n",
    "y = cg_rct_stacked.converted_yes\n"
   ]
  },
  {
   "attachments": {},
   "cell_type": "markdown",
   "metadata": {},
   "source": [
    "Random Forest on ad == 1 with cross validation and grid search"
   ]
  },
  {
   "cell_type": "code",
   "execution_count": 22,
   "metadata": {},
   "outputs": [
    {
     "name": "stdout",
     "output_type": "stream",
     "text": [
      "Fitting 5 folds for each of 10 candidates, totalling 50 fits\n",
      "[CV 2/5] END max_features=3, n_estimators=100; AUC: (test=0.769) total time=   1.1s\n",
      "[CV 1/5] END max_features=3, n_estimators=100; AUC: (test=0.778) total time=   1.1s\n",
      "[CV 4/5] END max_features=3, n_estimators=100; AUC: (test=0.775) total time=   1.1s\n",
      "[CV 3/5] END max_features=3, n_estimators=100; AUC: (test=0.779) total time=   1.1s\n",
      "[CV 5/5] END max_features=3, n_estimators=100; AUC: (test=0.761) total time=   1.1s\n",
      "[CV 1/5] END max_features=3, n_estimators=200; AUC: (test=0.777) total time=   2.2s\n",
      "[CV 2/5] END max_features=3, n_estimators=200; AUC: (test=0.775) total time=   2.2s\n",
      "[CV 3/5] END max_features=3, n_estimators=200; AUC: (test=0.780) total time=   2.2s\n",
      "[CV 4/5] END max_features=3, n_estimators=200; AUC: (test=0.778) total time=   2.2s\n",
      "[CV 5/5] END max_features=3, n_estimators=200; AUC: (test=0.765) total time=   2.3s\n",
      "[CV 1/5] END max_features=3, n_estimators=300; AUC: (test=0.780) total time=   3.4s\n",
      "[CV 2/5] END max_features=3, n_estimators=300; AUC: (test=0.776) total time=   3.4s\n",
      "[CV 3/5] END max_features=3, n_estimators=300; AUC: (test=0.779) total time=   3.5s\n",
      "[CV 4/5] END max_features=3, n_estimators=300; AUC: (test=0.779) total time=   3.5s\n",
      "[CV 5/5] END max_features=3, n_estimators=300; AUC: (test=0.765) total time=   3.5s\n",
      "[CV 1/5] END max_features=3, n_estimators=400; AUC: (test=0.778) total time=   4.6s\n",
      "[CV 2/5] END max_features=3, n_estimators=400; AUC: (test=0.779) total time=   4.6s\n",
      "[CV 3/5] END max_features=3, n_estimators=400; AUC: (test=0.781) total time=   4.5s\n",
      "[CV 4/5] END max_features=3, n_estimators=400; AUC: (test=0.783) total time=   4.6s\n",
      "[CV 5/5] END max_features=3, n_estimators=400; AUC: (test=0.766) total time=   4.5s\n",
      "[CV 1/5] END max_features=3, n_estimators=500; AUC: (test=0.779) total time=   5.6s\n",
      "[CV 2/5] END max_features=3, n_estimators=500; AUC: (test=0.775) total time=   5.9s\n",
      "[CV 3/5] END max_features=3, n_estimators=500; AUC: (test=0.783) total time=   5.9s\n",
      "[CV 1/5] END max_features=4, n_estimators=100; AUC: (test=0.772) total time=   1.4s\n",
      "[CV 4/5] END max_features=3, n_estimators=500; AUC: (test=0.781) total time=   6.0s\n",
      "[CV 2/5] END max_features=4, n_estimators=100; AUC: (test=0.766) total time=   1.4s\n",
      "[CV 3/5] END max_features=4, n_estimators=100; AUC: (test=0.774) total time=   1.4s\n",
      "[CV 4/5] END max_features=4, n_estimators=100; AUC: (test=0.770) total time=   1.4s\n",
      "[CV 5/5] END max_features=4, n_estimators=100; AUC: (test=0.758) total time=   1.4s\n",
      "[CV 5/5] END max_features=3, n_estimators=500; AUC: (test=0.765) total time=   6.0s\n"
     ]
    },
    {
     "name": "stderr",
     "output_type": "stream",
     "text": [
      "/opt/conda/lib/python3.10/site-packages/joblib/externals/loky/process_executor.py:702: UserWarning: A worker stopped while some jobs were given to the executor. This can be caused by a too short worker timeout or by a memory leak.\n",
      "  warnings.warn(\n"
     ]
    },
    {
     "name": "stdout",
     "output_type": "stream",
     "text": [
      "[CV 1/5] END max_features=4, n_estimators=200; AUC: (test=0.782) total time=   2.9s\n",
      "[CV 2/5] END max_features=4, n_estimators=200; AUC: (test=0.770) total time=   3.0s\n",
      "[CV 3/5] END max_features=4, n_estimators=200; AUC: (test=0.781) total time=   3.0s\n",
      "[CV 4/5] END max_features=4, n_estimators=200; AUC: (test=0.779) total time=   2.7s\n",
      "[CV 5/5] END max_features=4, n_estimators=200; AUC: (test=0.761) total time=   2.8s\n",
      "[CV 1/5] END max_features=4, n_estimators=300; AUC: (test=0.778) total time=   4.1s\n",
      "[CV 2/5] END max_features=4, n_estimators=300; AUC: (test=0.776) total time=   4.1s\n",
      "[CV 3/5] END max_features=4, n_estimators=300; AUC: (test=0.781) total time=   4.0s\n",
      "[CV 4/5] END max_features=4, n_estimators=300; AUC: (test=0.779) total time=   4.1s\n",
      "[CV 5/5] END max_features=4, n_estimators=300; AUC: (test=0.765) total time=   4.1s\n",
      "[CV 1/5] END max_features=4, n_estimators=400; AUC: (test=0.776) total time=   5.5s\n",
      "[CV 2/5] END max_features=4, n_estimators=400; AUC: (test=0.773) total time=   5.5s\n",
      "[CV 3/5] END max_features=4, n_estimators=400; AUC: (test=0.780) total time=   5.5s\n",
      "[CV 4/5] END max_features=4, n_estimators=400; AUC: (test=0.780) total time=   5.9s\n",
      "[CV 5/5] END max_features=4, n_estimators=400; AUC: (test=0.766) total time=   6.1s\n",
      "[CV 1/5] END max_features=4, n_estimators=500; AUC: (test=0.781) total time=   7.5s\n",
      "[CV 2/5] END max_features=4, n_estimators=500; AUC: (test=0.775) total time=   7.6s\n",
      "[CV 3/5] END max_features=4, n_estimators=500; AUC: (test=0.780) total time=   7.3s\n",
      "[CV 4/5] END max_features=4, n_estimators=500; AUC: (test=0.780) total time=   7.4s\n",
      "[CV 5/5] END max_features=4, n_estimators=500; AUC: (test=0.766) total time=   7.2s\n"
     ]
    }
   ],
   "source": [
    "clf = RandomForestClassifier()\n",
    "param_grid = {\n",
    "    \"n_estimators\": list(range(100, 501, 100)),\n",
    "    \"max_features\": range(3, 5),\n",
    "}\n",
    "scoring = {\"AUC\": \"roc_auc\"}\n",
    "\n",
    "clf_ad_cv = GridSearchCV(\n",
    "    clf, param_grid, scoring=scoring, cv=5, n_jobs=4, refit=\"AUC\", verbose=5\n",
    ").fit(\n",
    "    X[(pred_store.ad == 1) & (pred_store.training == 1)],\n",
    "    y[(pred_store.ad == 1) & (pred_store.training == 1)],\n",
    ")\n"
   ]
  },
  {
   "cell_type": "code",
   "execution_count": 23,
   "metadata": {},
   "outputs": [
    {
     "data": {
      "text/plain": [
       "{'max_features': 3, 'n_estimators': 400}"
      ]
     },
     "execution_count": 23,
     "metadata": {},
     "output_type": "execute_result"
    }
   ],
   "source": [
    "clf_ad_cv.best_params_"
   ]
  },
  {
   "cell_type": "code",
   "execution_count": 24,
   "metadata": {},
   "outputs": [],
   "source": [
    "clf_ad = RandomForestClassifier(\n",
    "    n_estimators=clf_ad_cv.best_params_[\"n_estimators\"], # 500\n",
    "    max_features=clf_ad_cv.best_params_[\"max_features\"], # 3\n",
    "    oob_score=True,\n",
    "    random_state=1234,\n",
    ").fit(\n",
    "    X[(pred_store.ad == 1) & (pred_store.training == 1)],\n",
    "    y[(pred_store.ad == 1) & (pred_store.training == 1)],\n",
    ")\n"
   ]
  },
  {
   "cell_type": "code",
   "execution_count": 25,
   "metadata": {},
   "outputs": [],
   "source": [
    "# using OOB for predictions on the training data\n",
    "pred_store.loc[:, \"pred_rf_ad\"] = clf_ad.predict_proba(X)[:, 1]\n",
    "pred_store.loc[(pred_store.ad == 1) & (pred_store.training == 1), \"pred_rf_ad\"] = clf_ad.oob_decision_function_[:, 1]"
   ]
  },
  {
   "cell_type": "code",
   "execution_count": 26,
   "metadata": {},
   "outputs": [
    {
     "name": "stdout",
     "output_type": "stream",
     "text": [
      "Fitting 5 folds for each of 10 candidates, totalling 50 fits\n",
      "[CV 1/5] END max_features=3, n_estimators=100; AUC: (test=0.859) total time=   1.0s\n",
      "[CV 2/5] END max_features=3, n_estimators=100; AUC: (test=0.864) total time=   1.0s\n",
      "[CV 3/5] END max_features=3, n_estimators=100; AUC: (test=0.868) total time=   0.9s\n",
      "[CV 4/5] END max_features=3, n_estimators=100; AUC: (test=0.863) total time=   0.9s\n",
      "[CV 5/5] END max_features=3, n_estimators=100; AUC: (test=0.873) total time=   0.9s\n",
      "[CV 1/5] END max_features=3, n_estimators=200; AUC: (test=0.864) total time=   2.0s\n",
      "[CV 3/5] END max_features=3, n_estimators=200; AUC: (test=0.872) total time=   2.0s\n",
      "[CV 2/5] END max_features=3, n_estimators=200; AUC: (test=0.862) total time=   2.0s\n",
      "[CV 4/5] END max_features=3, n_estimators=200; AUC: (test=0.864) total time=   2.1s\n",
      "[CV 5/5] END max_features=3, n_estimators=200; AUC: (test=0.871) total time=   2.1s\n",
      "[CV 1/5] END max_features=3, n_estimators=300; AUC: (test=0.872) total time=   2.8s\n",
      "[CV 2/5] END max_features=3, n_estimators=300; AUC: (test=0.866) total time=   2.8s\n",
      "[CV 3/5] END max_features=3, n_estimators=300; AUC: (test=0.873) total time=   2.8s\n",
      "[CV 4/5] END max_features=3, n_estimators=300; AUC: (test=0.862) total time=   2.9s\n",
      "[CV 5/5] END max_features=3, n_estimators=300; AUC: (test=0.870) total time=   2.8s\n",
      "[CV 1/5] END max_features=3, n_estimators=400; AUC: (test=0.873) total time=   3.7s\n",
      "[CV 2/5] END max_features=3, n_estimators=400; AUC: (test=0.870) total time=   3.8s\n",
      "[CV 3/5] END max_features=3, n_estimators=400; AUC: (test=0.874) total time=   3.8s\n",
      "[CV 4/5] END max_features=3, n_estimators=400; AUC: (test=0.863) total time=   3.6s\n",
      "[CV 5/5] END max_features=3, n_estimators=400; AUC: (test=0.880) total time=   3.7s\n",
      "[CV 1/5] END max_features=3, n_estimators=500; AUC: (test=0.870) total time=   4.7s\n",
      "[CV 2/5] END max_features=3, n_estimators=500; AUC: (test=0.870) total time=   4.8s\n",
      "[CV 3/5] END max_features=3, n_estimators=500; AUC: (test=0.872) total time=   4.6s\n",
      "[CV 1/5] END max_features=4, n_estimators=100; AUC: (test=0.871) total time=   1.2s\n",
      "[CV 4/5] END max_features=3, n_estimators=500; AUC: (test=0.869) total time=   4.7s\n",
      "[CV 2/5] END max_features=4, n_estimators=100; AUC: (test=0.857) total time=   1.2s\n",
      "[CV 3/5] END max_features=4, n_estimators=100; AUC: (test=0.858) total time=   1.1s\n",
      "[CV 4/5] END max_features=4, n_estimators=100; AUC: (test=0.864) total time=   1.1s\n",
      "[CV 5/5] END max_features=4, n_estimators=100; AUC: (test=0.871) total time=   1.1s\n",
      "[CV 5/5] END max_features=3, n_estimators=500; AUC: (test=0.881) total time=   4.8s\n",
      "[CV 1/5] END max_features=4, n_estimators=200; AUC: (test=0.867) total time=   2.3s\n",
      "[CV 2/5] END max_features=4, n_estimators=200; AUC: (test=0.867) total time=   2.2s\n",
      "[CV 3/5] END max_features=4, n_estimators=200; AUC: (test=0.873) total time=   2.2s\n",
      "[CV 4/5] END max_features=4, n_estimators=200; AUC: (test=0.865) total time=   2.4s\n",
      "[CV 5/5] END max_features=4, n_estimators=200; AUC: (test=0.880) total time=   2.4s\n",
      "[CV 1/5] END max_features=4, n_estimators=300; AUC: (test=0.874) total time=   3.4s\n",
      "[CV 2/5] END max_features=4, n_estimators=300; AUC: (test=0.866) total time=   3.4s\n",
      "[CV 3/5] END max_features=4, n_estimators=300; AUC: (test=0.874) total time=   3.3s\n",
      "[CV 4/5] END max_features=4, n_estimators=300; AUC: (test=0.869) total time=   3.4s\n",
      "[CV 5/5] END max_features=4, n_estimators=300; AUC: (test=0.880) total time=   3.4s\n",
      "[CV 1/5] END max_features=4, n_estimators=400; AUC: (test=0.874) total time=   4.4s\n",
      "[CV 2/5] END max_features=4, n_estimators=400; AUC: (test=0.867) total time=   4.5s\n",
      "[CV 3/5] END max_features=4, n_estimators=400; AUC: (test=0.874) total time=   4.4s\n",
      "[CV 4/5] END max_features=4, n_estimators=400; AUC: (test=0.868) total time=   4.3s\n",
      "[CV 5/5] END max_features=4, n_estimators=400; AUC: (test=0.881) total time=   4.4s\n",
      "[CV 1/5] END max_features=4, n_estimators=500; AUC: (test=0.872) total time=   5.5s\n",
      "[CV 2/5] END max_features=4, n_estimators=500; AUC: (test=0.867) total time=   5.6s\n",
      "[CV 3/5] END max_features=4, n_estimators=500; AUC: (test=0.870) total time=   5.4s\n",
      "[CV 4/5] END max_features=4, n_estimators=500; AUC: (test=0.868) total time=   5.4s\n",
      "[CV 5/5] END max_features=4, n_estimators=500; AUC: (test=0.881) total time=   5.4s\n"
     ]
    }
   ],
   "source": [
    "clf = RandomForestClassifier()\n",
    "param_grid = {\n",
    "    \"n_estimators\": list(range(100, 501, 100)),\n",
    "    \"max_features\": range(3, 5),\n",
    "}\n",
    "scoring = {\"AUC\": \"roc_auc\"}\n",
    "\n",
    "clf_no_ad_cv = GridSearchCV(\n",
    "    clf, param_grid, scoring=scoring, cv=5, n_jobs=4, refit=\"AUC\", verbose=5\n",
    ").fit(\n",
    "    X[(pred_store.ad == 0) & (pred_store.training == 1)],\n",
    "    y[(pred_store.ad == 0) & (pred_store.training == 1)],\n",
    ")\n"
   ]
  },
  {
   "cell_type": "code",
   "execution_count": 27,
   "metadata": {},
   "outputs": [
    {
     "data": {
      "text/plain": [
       "{'max_features': 4, 'n_estimators': 400}"
      ]
     },
     "execution_count": 27,
     "metadata": {},
     "output_type": "execute_result"
    }
   ],
   "source": [
    "clf_no_ad_cv.best_params_\n"
   ]
  },
  {
   "cell_type": "code",
   "execution_count": 28,
   "metadata": {},
   "outputs": [],
   "source": [
    "clf_no_ad = RandomForestClassifier(\n",
    "    n_estimators=clf_no_ad_cv.best_params_[\"n_estimators\"], # 3\n",
    "    max_features=clf_no_ad_cv.best_params_[\"max_features\"], # 500\n",
    "    oob_score=True,\n",
    "    random_state=1234,\n",
    ").fit(\n",
    "    X[(pred_store.ad == 0) & (pred_store.training == 1)],\n",
    "    y[(pred_store.ad == 0) & (pred_store.training == 1)],\n",
    ")"
   ]
  },
  {
   "cell_type": "code",
   "execution_count": 29,
   "metadata": {},
   "outputs": [],
   "source": [
    "pred_store.loc[:, \"pred_rf_no_ad\"] = clf_no_ad.predict_proba(X)[:, 1]\n",
    "pred_store.loc[(pred_store.ad == 0) & (pred_store.training == 1), \"pred_rf_no_ad\"] = clf_no_ad.oob_decision_function_[:, 1]\n",
    "pred_store[\"rf_uplift_score\"] = pred_store.pred_rf_ad - pred_store.pred_rf_no_ad"
   ]
  },
  {
   "attachments": {},
   "cell_type": "markdown",
   "metadata": {},
   "source": [
    "For RF 3. Calculate the Uplift (%) and Incremental Uplift (%) for the uplift model (use 20 instead of the standard 10 groups) and plot performance metrics. Interpret the plots. (3 points)\n",
    "\n",
    "> Hint: Use functions from the pyrsm package (version 0.7.5 or newer) to generate the uplift table (uplift_tab), the incremental uplift (inc_uplift_plot), and the uplift plot (uplift_plot). \n"
   ]
  },
  {
   "cell_type": "code",
   "execution_count": 30,
   "metadata": {},
   "outputs": [
    {
     "data": {
      "text/html": [
       "<div>\n",
       "<style scoped>\n",
       "    .dataframe tbody tr th:only-of-type {\n",
       "        vertical-align: middle;\n",
       "    }\n",
       "\n",
       "    .dataframe tbody tr th {\n",
       "        vertical-align: top;\n",
       "    }\n",
       "\n",
       "    .dataframe thead th {\n",
       "        text-align: right;\n",
       "    }\n",
       "</style>\n",
       "<table border=\"1\" class=\"dataframe\">\n",
       "  <thead>\n",
       "    <tr style=\"text-align: right;\">\n",
       "      <th></th>\n",
       "      <th>pred</th>\n",
       "      <th>bins</th>\n",
       "      <th>cum_prop</th>\n",
       "      <th>T_resp</th>\n",
       "      <th>T_n</th>\n",
       "      <th>C_resp</th>\n",
       "      <th>C_n</th>\n",
       "      <th>incremental_resp</th>\n",
       "      <th>inc_uplift</th>\n",
       "      <th>uplift</th>\n",
       "    </tr>\n",
       "  </thead>\n",
       "  <tbody>\n",
       "    <tr>\n",
       "      <th>0</th>\n",
       "      <td>rf_uplift_score</td>\n",
       "      <td>1</td>\n",
       "      <td>0.05</td>\n",
       "      <td>205</td>\n",
       "      <td>448</td>\n",
       "      <td>58</td>\n",
       "      <td>583</td>\n",
       "      <td>160.430532</td>\n",
       "      <td>1.782561</td>\n",
       "      <td>0.358104</td>\n",
       "    </tr>\n",
       "    <tr>\n",
       "      <th>1</th>\n",
       "      <td>rf_uplift_score</td>\n",
       "      <td>2</td>\n",
       "      <td>0.10</td>\n",
       "      <td>351</td>\n",
       "      <td>890</td>\n",
       "      <td>91</td>\n",
       "      <td>1113</td>\n",
       "      <td>278.232704</td>\n",
       "      <td>3.091474</td>\n",
       "      <td>0.268053</td>\n",
       "    </tr>\n",
       "    <tr>\n",
       "      <th>2</th>\n",
       "      <td>rf_uplift_score</td>\n",
       "      <td>3</td>\n",
       "      <td>0.15</td>\n",
       "      <td>476</td>\n",
       "      <td>1341</td>\n",
       "      <td>121</td>\n",
       "      <td>1641</td>\n",
       "      <td>377.120658</td>\n",
       "      <td>4.190230</td>\n",
       "      <td>0.220344</td>\n",
       "    </tr>\n",
       "    <tr>\n",
       "      <th>3</th>\n",
       "      <td>rf_uplift_score</td>\n",
       "      <td>4</td>\n",
       "      <td>0.20</td>\n",
       "      <td>560</td>\n",
       "      <td>1790</td>\n",
       "      <td>146</td>\n",
       "      <td>2212</td>\n",
       "      <td>441.853526</td>\n",
       "      <td>4.909484</td>\n",
       "      <td>0.143300</td>\n",
       "    </tr>\n",
       "    <tr>\n",
       "      <th>4</th>\n",
       "      <td>rf_uplift_score</td>\n",
       "      <td>5</td>\n",
       "      <td>0.25</td>\n",
       "      <td>642</td>\n",
       "      <td>2247</td>\n",
       "      <td>173</td>\n",
       "      <td>2742</td>\n",
       "      <td>500.230853</td>\n",
       "      <td>5.558121</td>\n",
       "      <td>0.128488</td>\n",
       "    </tr>\n",
       "    <tr>\n",
       "      <th>5</th>\n",
       "      <td>rf_uplift_score</td>\n",
       "      <td>6</td>\n",
       "      <td>0.30</td>\n",
       "      <td>712</td>\n",
       "      <td>2689</td>\n",
       "      <td>197</td>\n",
       "      <td>3181</td>\n",
       "      <td>545.469664</td>\n",
       "      <td>6.060774</td>\n",
       "      <td>0.103701</td>\n",
       "    </tr>\n",
       "    <tr>\n",
       "      <th>6</th>\n",
       "      <td>rf_uplift_score</td>\n",
       "      <td>7</td>\n",
       "      <td>0.35</td>\n",
       "      <td>762</td>\n",
       "      <td>3135</td>\n",
       "      <td>218</td>\n",
       "      <td>3665</td>\n",
       "      <td>575.525239</td>\n",
       "      <td>6.394725</td>\n",
       "      <td>0.068719</td>\n",
       "    </tr>\n",
       "    <tr>\n",
       "      <th>7</th>\n",
       "      <td>rf_uplift_score</td>\n",
       "      <td>8</td>\n",
       "      <td>0.40</td>\n",
       "      <td>804</td>\n",
       "      <td>3557</td>\n",
       "      <td>230</td>\n",
       "      <td>4134</td>\n",
       "      <td>606.102080</td>\n",
       "      <td>6.734468</td>\n",
       "      <td>0.073940</td>\n",
       "    </tr>\n",
       "    <tr>\n",
       "      <th>8</th>\n",
       "      <td>rf_uplift_score</td>\n",
       "      <td>9</td>\n",
       "      <td>0.45</td>\n",
       "      <td>848</td>\n",
       "      <td>4000</td>\n",
       "      <td>241</td>\n",
       "      <td>4601</td>\n",
       "      <td>638.480330</td>\n",
       "      <td>7.094226</td>\n",
       "      <td>0.075768</td>\n",
       "    </tr>\n",
       "    <tr>\n",
       "      <th>9</th>\n",
       "      <td>rf_uplift_score</td>\n",
       "      <td>10</td>\n",
       "      <td>0.50</td>\n",
       "      <td>885</td>\n",
       "      <td>4480</td>\n",
       "      <td>256</td>\n",
       "      <td>5144</td>\n",
       "      <td>662.045101</td>\n",
       "      <td>7.356057</td>\n",
       "      <td>0.049459</td>\n",
       "    </tr>\n",
       "    <tr>\n",
       "      <th>10</th>\n",
       "      <td>rf_uplift_score</td>\n",
       "      <td>11</td>\n",
       "      <td>0.55</td>\n",
       "      <td>917</td>\n",
       "      <td>4939</td>\n",
       "      <td>262</td>\n",
       "      <td>5680</td>\n",
       "      <td>689.179930</td>\n",
       "      <td>7.657555</td>\n",
       "      <td>0.058523</td>\n",
       "    </tr>\n",
       "    <tr>\n",
       "      <th>11</th>\n",
       "      <td>rf_uplift_score</td>\n",
       "      <td>12</td>\n",
       "      <td>0.60</td>\n",
       "      <td>937</td>\n",
       "      <td>5359</td>\n",
       "      <td>268</td>\n",
       "      <td>6093</td>\n",
       "      <td>701.284917</td>\n",
       "      <td>7.792055</td>\n",
       "      <td>0.033091</td>\n",
       "    </tr>\n",
       "    <tr>\n",
       "      <th>12</th>\n",
       "      <td>rf_uplift_score</td>\n",
       "      <td>13</td>\n",
       "      <td>0.65</td>\n",
       "      <td>959</td>\n",
       "      <td>5836</td>\n",
       "      <td>276</td>\n",
       "      <td>6568</td>\n",
       "      <td>713.760049</td>\n",
       "      <td>7.930667</td>\n",
       "      <td>0.029279</td>\n",
       "    </tr>\n",
       "    <tr>\n",
       "      <th>13</th>\n",
       "      <td>rf_uplift_score</td>\n",
       "      <td>14</td>\n",
       "      <td>0.70</td>\n",
       "      <td>975</td>\n",
       "      <td>6157</td>\n",
       "      <td>281</td>\n",
       "      <td>6910</td>\n",
       "      <td>724.621274</td>\n",
       "      <td>8.051347</td>\n",
       "      <td>0.035224</td>\n",
       "    </tr>\n",
       "    <tr>\n",
       "      <th>14</th>\n",
       "      <td>rf_uplift_score</td>\n",
       "      <td>15</td>\n",
       "      <td>0.75</td>\n",
       "      <td>994</td>\n",
       "      <td>6741</td>\n",
       "      <td>288</td>\n",
       "      <td>7462</td>\n",
       "      <td>733.827392</td>\n",
       "      <td>8.153638</td>\n",
       "      <td>0.019853</td>\n",
       "    </tr>\n",
       "    <tr>\n",
       "      <th>15</th>\n",
       "      <td>rf_uplift_score</td>\n",
       "      <td>16</td>\n",
       "      <td>0.80</td>\n",
       "      <td>1012</td>\n",
       "      <td>7157</td>\n",
       "      <td>294</td>\n",
       "      <td>7869</td>\n",
       "      <td>744.601601</td>\n",
       "      <td>8.273351</td>\n",
       "      <td>0.028527</td>\n",
       "    </tr>\n",
       "    <tr>\n",
       "      <th>16</th>\n",
       "      <td>rf_uplift_score</td>\n",
       "      <td>17</td>\n",
       "      <td>0.85</td>\n",
       "      <td>1030</td>\n",
       "      <td>7645</td>\n",
       "      <td>298</td>\n",
       "      <td>8322</td>\n",
       "      <td>756.242490</td>\n",
       "      <td>8.402694</td>\n",
       "      <td>0.028055</td>\n",
       "    </tr>\n",
       "    <tr>\n",
       "      <th>17</th>\n",
       "      <td>rf_uplift_score</td>\n",
       "      <td>18</td>\n",
       "      <td>0.90</td>\n",
       "      <td>1087</td>\n",
       "      <td>8097</td>\n",
       "      <td>350</td>\n",
       "      <td>8659</td>\n",
       "      <td>759.716249</td>\n",
       "      <td>8.441292</td>\n",
       "      <td>-0.028196</td>\n",
       "    </tr>\n",
       "    <tr>\n",
       "      <th>18</th>\n",
       "      <td>rf_uplift_score</td>\n",
       "      <td>19</td>\n",
       "      <td>0.95</td>\n",
       "      <td>1137</td>\n",
       "      <td>8548</td>\n",
       "      <td>431</td>\n",
       "      <td>8837</td>\n",
       "      <td>720.095168</td>\n",
       "      <td>8.001057</td>\n",
       "      <td>-0.344191</td>\n",
       "    </tr>\n",
       "    <tr>\n",
       "      <th>19</th>\n",
       "      <td>rf_uplift_score</td>\n",
       "      <td>20</td>\n",
       "      <td>1.00</td>\n",
       "      <td>1174</td>\n",
       "      <td>9000</td>\n",
       "      <td>512</td>\n",
       "      <td>9000</td>\n",
       "      <td>662.000000</td>\n",
       "      <td>7.355556</td>\n",
       "      <td>-0.415074</td>\n",
       "    </tr>\n",
       "  </tbody>\n",
       "</table>\n",
       "</div>"
      ],
      "text/plain": [
       "               pred  bins  cum_prop  T_resp   T_n  C_resp   C_n  \\\n",
       "0   rf_uplift_score     1      0.05     205   448      58   583   \n",
       "1   rf_uplift_score     2      0.10     351   890      91  1113   \n",
       "2   rf_uplift_score     3      0.15     476  1341     121  1641   \n",
       "3   rf_uplift_score     4      0.20     560  1790     146  2212   \n",
       "4   rf_uplift_score     5      0.25     642  2247     173  2742   \n",
       "5   rf_uplift_score     6      0.30     712  2689     197  3181   \n",
       "6   rf_uplift_score     7      0.35     762  3135     218  3665   \n",
       "7   rf_uplift_score     8      0.40     804  3557     230  4134   \n",
       "8   rf_uplift_score     9      0.45     848  4000     241  4601   \n",
       "9   rf_uplift_score    10      0.50     885  4480     256  5144   \n",
       "10  rf_uplift_score    11      0.55     917  4939     262  5680   \n",
       "11  rf_uplift_score    12      0.60     937  5359     268  6093   \n",
       "12  rf_uplift_score    13      0.65     959  5836     276  6568   \n",
       "13  rf_uplift_score    14      0.70     975  6157     281  6910   \n",
       "14  rf_uplift_score    15      0.75     994  6741     288  7462   \n",
       "15  rf_uplift_score    16      0.80    1012  7157     294  7869   \n",
       "16  rf_uplift_score    17      0.85    1030  7645     298  8322   \n",
       "17  rf_uplift_score    18      0.90    1087  8097     350  8659   \n",
       "18  rf_uplift_score    19      0.95    1137  8548     431  8837   \n",
       "19  rf_uplift_score    20      1.00    1174  9000     512  9000   \n",
       "\n",
       "    incremental_resp  inc_uplift    uplift  \n",
       "0         160.430532    1.782561  0.358104  \n",
       "1         278.232704    3.091474  0.268053  \n",
       "2         377.120658    4.190230  0.220344  \n",
       "3         441.853526    4.909484  0.143300  \n",
       "4         500.230853    5.558121  0.128488  \n",
       "5         545.469664    6.060774  0.103701  \n",
       "6         575.525239    6.394725  0.068719  \n",
       "7         606.102080    6.734468  0.073940  \n",
       "8         638.480330    7.094226  0.075768  \n",
       "9         662.045101    7.356057  0.049459  \n",
       "10        689.179930    7.657555  0.058523  \n",
       "11        701.284917    7.792055  0.033091  \n",
       "12        713.760049    7.930667  0.029279  \n",
       "13        724.621274    8.051347  0.035224  \n",
       "14        733.827392    8.153638  0.019853  \n",
       "15        744.601601    8.273351  0.028527  \n",
       "16        756.242490    8.402694  0.028055  \n",
       "17        759.716249    8.441292 -0.028196  \n",
       "18        720.095168    8.001057 -0.344191  \n",
       "19        662.000000    7.355556 -0.415074  "
      ]
     },
     "execution_count": 30,
     "metadata": {},
     "output_type": "execute_result"
    }
   ],
   "source": [
    "tab_rf = rsm.uplift_tab(\n",
    "    pred_store.query(\"training == 0\"), \"converted\", \"yes\", \"rf_uplift_score\", \"ad\", 1, qnt = 20\n",
    ")\n",
    "tab_rf"
   ]
  },
  {
   "attachments": {},
   "cell_type": "markdown",
   "metadata": {},
   "source": [
    "For RF: 4. Using the incremental_resp column from the performance metric table created through the uplift_tab function, calculate the incremental profit you expect to make if you targeted the best 30,000 customers of 120,000 using the uplift model. (3 points)\n",
    "\n",
    "> Hint: For every n-tile, the incremental_resp tells you how many incremental purchases were made when customers up to that n-tile were targeted. To extrapolate to the best 30,000 from 120,000, notice that there are a total of 9,000 customers who got the ad in cg_rct_stacked\n"
   ]
  },
  {
   "cell_type": "code",
   "execution_count": 31,
   "metadata": {},
   "outputs": [
    {
     "data": {
      "text/plain": [
       "'Incremental profit from Random Forest Uplift: $54,979.47'"
      ]
     },
     "execution_count": 31,
     "metadata": {},
     "output_type": "execute_result"
    }
   ],
   "source": [
    "incr_profit_uplift_rf = (14.99 * tab_rf.loc[4, \"incremental_resp\"] - 1.5*9000*0.25) * 120000/9000\n",
    "f\"Incremental profit from Random Forest Uplift: ${incr_profit_uplift_rf:,.2f}\""
   ]
  },
  {
   "cell_type": "markdown",
   "metadata": {},
   "source": [
    "5. Calculate the Uplift (%) and Incremental Uplift (%) you would get if you used a propensity model (use 20 instead of the standard 10 groups). Compare the performance metrics between the uplift and propensity models and interpret the differences. (3 points)\n",
    "\n",
    ">Hint: Use uplift and incremental uplift plots to compare the uplift and propensity models "
   ]
  },
  {
   "cell_type": "markdown",
   "metadata": {},
   "source": [
    "It is helpful to compare the multiple models on the same graph. The `inc_uplift_plot` and `uplift_plot` functions can do this:\n",
    "\n",
    "The uplift model dominates provided we are targeting at least 15-20% of customers (that it does not dominate before we target that many suggests there are no \"Sure Things\" in this data). It also relegates all the \"Do Not Disturbs\" into the last 10-15% of targeted consumers."
   ]
  },
  {
   "cell_type": "code",
   "execution_count": 32,
   "metadata": {},
   "outputs": [
    {
     "data": {
      "image/png": "[encoded data removed]",
      "text/plain": [
       "<Figure size 640x480 with 1 Axes>"
      ]
     },
     "metadata": {},
     "output_type": "display_data"
    }
   ],
   "source": [
    "fig = rsm.inc_uplift_plot(\n",
    "    pred_store.query(\"training == 0\"), \"converted\", \"yes\", [\"rf_uplift_score\", \"pred_rf_ad\"], \"ad\", 1, qnt = 20\n",
    ")"
   ]
  },
  {
   "cell_type": "code",
   "execution_count": 33,
   "metadata": {},
   "outputs": [
    {
     "data": {
      "image/png": "[encoded data removed]",
      "text/plain": [
       "<Figure size 640x480 with 1 Axes>"
      ]
     },
     "metadata": {},
     "output_type": "display_data"
    }
   ],
   "source": [
    "fig = rsm.uplift_plot(\n",
    "    pred_store.query(\"training == 0\"), \"converted\", \"yes\", [\"rf_uplift_score\", \"pred_rf_ad\"], \"ad\", 1, qnt = 20\n",
    ")"
   ]
  },
  {
   "cell_type": "markdown",
   "metadata": {},
   "source": [
    "We can probe this by examining our two predictions for each customer\n"
   ]
  },
  {
   "cell_type": "code",
   "execution_count": 34,
   "metadata": {},
   "outputs": [
    {
     "data": {
      "image/png": "[encoded data removed]",
      "text/plain": [
       "<Figure size 640x480 with 1 Axes>"
      ]
     },
     "metadata": {},
     "output_type": "display_data"
    }
   ],
   "source": [
    "smp = pred_store[[\"pred_rf_no_ad\", \"pred_rf_ad\"]].sample(n=30000, random_state=1234)\n",
    "fig = sns.scatterplot(x = smp[\"pred_rf_no_ad\"], y = smp[\"pred_rf_ad\"])\n",
    "fig.set(ylim=(0, 1), xlim=(0,1))\n",
    "fig.text(0.05, 0.05, \"Lost Causes\", size=\"large\", color='red', weight='bold')\n",
    "fig.text(0.05, 0.95, \"Persuadables\", size='large', color='red', weight='bold')\n",
    "fig.text(0.95, 0.95, \"Sure things\", size='large', color='red', weight='bold', horizontalalignment=\"right\")\n",
    "fig = fig.text(0.95, 0.05, \"Do not disturb\", size='large', color='red', weight='bold', horizontalalignment=\"right\")\n"
   ]
  },
  {
   "cell_type": "code",
   "execution_count": 35,
   "metadata": {},
   "outputs": [
    {
     "data": {
      "text/plain": [
       "'Incremental profit from Random Forest propensity-to-buy: $47,490.65'"
      ]
     },
     "execution_count": 35,
     "metadata": {},
     "output_type": "execute_result"
    }
   ],
   "source": [
    "tab_rf_propensity = rsm.uplift_tab(\n",
    "    pred_store.query(\"training == 0\"), \"converted\", \"yes\", \"pred_rf_ad\", \"ad\", 1, qnt = 20\n",
    ")\n",
    "\n",
    "incr_profit_uplift_rf_propensity = (14.99 * tab_rf_propensity.loc[4, \"incremental_resp\"] - 1.5*9000*0.25) * 120000/9000\n",
    "f\"Incremental profit from Random Forest propensity-to-buy: ${incr_profit_uplift_rf_propensity:,.2f}\""
   ]
  },
  {
   "cell_type": "code",
   "execution_count": 36,
   "metadata": {},
   "outputs": [
    {
     "data": {
      "text/plain": [
       "'We make more using uplift than propensity by $7,488.82'"
      ]
     },
     "execution_count": 36,
     "metadata": {},
     "output_type": "execute_result"
    }
   ],
   "source": [
    "f\"We make more using uplift than propensity by ${incr_profit_uplift_rf - incr_profit_uplift_rf_propensity:,.2f}\"\n"
   ]
  },
  {
   "attachments": {},
   "cell_type": "markdown",
   "metadata": {},
   "source": [
    "## Part II: Targeting the optimal percent of customers (14 points) \n",
    "\n",
    "So far we have targeted 25% of model-selected customers by picking the best 30,000 out of the set of 120,000 customers. Determine if more or less than 25% of customers should be targeted. \n",
    "\n",
    "1. What formula would you use to select customers to target using a propensity model if your goal is to maximize profits? What percentage of customers in the ad treatment test set in cg_rct_stacked would you target based on the propensity model? (3 points)\n"
   ]
  },
  {
   "attachments": {},
   "cell_type": "markdown",
   "metadata": {},
   "source": [
    "To breakeven we need:\n",
    "\n",
    "Pr(Buy) x Marig on Sale - Cost of Offer > 0\n",
    "\n",
    "which is the same as  \n",
    "\n",
    "Pr(Buy | Treatment) x Margin on Sale - Cost of Offer > 0 \n",
    "\n",
    "for a propensity model."
   ]
  },
  {
   "cell_type": "code",
   "execution_count": 37,
   "metadata": {},
   "outputs": [
    {
     "data": {
      "text/plain": [
       "'47.99%'"
      ]
     },
     "execution_count": 37,
     "metadata": {},
     "output_type": "execute_result"
    }
   ],
   "source": [
    "lr_propensity_target_pct = (pred_store.loc[(pred_store.ad == 1) & (pred_store.training == 0), \"pred_lr_ad\"] > (1.5/14.99)).mean()\n",
    "f\"{100 * lr_propensity_target_pct:.2f}%\""
   ]
  },
  {
   "cell_type": "code",
   "execution_count": 38,
   "metadata": {},
   "outputs": [
    {
     "data": {
      "text/plain": [
       "'50.83%'"
      ]
     },
     "execution_count": 38,
     "metadata": {},
     "output_type": "execute_result"
    }
   ],
   "source": [
    "rf_propensity_target_pct = (pred_store.loc[(pred_store.ad == 1) & (pred_store.training == 0), \"pred_rf_ad\"] > (1.5/14.99)).mean()\n",
    "f\"{100 * rf_propensity_target_pct:.2f}%\""
   ]
  },
  {
   "attachments": {},
   "cell_type": "markdown",
   "metadata": {},
   "source": [
    "2. What formula would you use to select customers to target using an uplift model if your goal is to maximize incremental profits? What percentage of customers in the ad treatment test set in cg_rct_stacked would you target based on the uplift model? (3 points)"
   ]
  },
  {
   "attachments": {},
   "cell_type": "markdown",
   "metadata": {},
   "source": [
    "Pr(Buy | Treatment) x Margin on Sale - Cost of Offer > Pr(Buy | Control) x Margin on Sale  "
   ]
  },
  {
   "cell_type": "code",
   "execution_count": 39,
   "metadata": {},
   "outputs": [
    {
     "data": {
      "text/plain": [
       "'21.93%'"
      ]
     },
     "execution_count": 39,
     "metadata": {},
     "output_type": "execute_result"
    }
   ],
   "source": [
    "lr_uplift_target_pct = (pred_store.loc[(pred_store.ad == 1) & (pred_store.training == 0), \"lr_uplift_score\"] > (1.5/14.99)).mean()\n",
    "f\"{100 * lr_uplift_target_pct:.2f}%\""
   ]
  },
  {
   "cell_type": "code",
   "execution_count": 40,
   "metadata": {},
   "outputs": [
    {
     "data": {
      "text/plain": [
       "'30.18%'"
      ]
     },
     "execution_count": 40,
     "metadata": {},
     "output_type": "execute_result"
    }
   ],
   "source": [
    "rf_uplift_target_pct = (pred_store.loc[(pred_store.ad == 1) & (pred_store.training == 0), \"rf_uplift_score\"] > (1.5/14.99)).mean()\n",
    "f\"{100 * rf_uplift_target_pct:.2f}%\""
   ]
  },
  {
   "attachments": {},
   "cell_type": "markdown",
   "metadata": {},
   "source": [
    "* The uplift model (Logistic Regression) suggests targeting 22% of customers.\n",
    "* The uplift model (Random Forest) suggests targeting 30% of customers."
   ]
  },
  {
   "attachments": {},
   "cell_type": "markdown",
   "metadata": {},
   "source": [
    "3. Rounding the targeting percentage numbers you calculated in 1. and 2. to the nearest 5%, use the uplift table you created for the propensity and uplift models in Part I to calculate the incremental profits you would have obtained in the test set in cg_rct_stacked dataset if you had targeted the optimal percentage of customers suggested by each model. (2 points)"
   ]
  },
  {
   "cell_type": "code",
   "execution_count": 41,
   "metadata": {},
   "outputs": [
    {
     "data": {
      "text/plain": [
       "'Optimal profit from Logistic Regression Propensity-to-Buy: $799.86'"
      ]
     },
     "execution_count": 41,
     "metadata": {},
     "output_type": "execute_result"
    }
   ],
   "source": [
    "# Logistic regression\n",
    "target_pct = 0.50\n",
    "incremental_resp = tab_lr_propensity.loc[tab_lr_propensity.cum_prop == target_pct, \"incremental_resp\"] \n",
    "lr_max_profit_prop = (14.99 * incremental_resp - 1.5 * 9000 * target_pct) * 120000 / 9000\n",
    "f\"Optimal profit from Logistic Regression Propensity-to-Buy: ${lr_max_profit_prop.values[0]:,.2f}\""
   ]
  },
  {
   "cell_type": "code",
   "execution_count": 42,
   "metadata": {},
   "outputs": [
    {
     "data": {
      "text/plain": [
       "'Optimal profit from Logistic Regression Uplift: $44,387.75'"
      ]
     },
     "execution_count": 42,
     "metadata": {},
     "output_type": "execute_result"
    }
   ],
   "source": [
    "# Logistic regression\n",
    "target_pct = 0.20\n",
    "incremental_resp = tab_lr.loc[tab_lr.cum_prop == target_pct, \"incremental_resp\"] \n",
    "lr_max_profit_uplift = (14.99 * incremental_resp - 1.5 * 9000 * target_pct) * 120000 / 9000\n",
    "f\"Optimal profit from Logistic Regression Uplift: ${lr_max_profit_uplift.values[0]:,.2f}\""
   ]
  },
  {
   "cell_type": "code",
   "execution_count": 43,
   "metadata": {},
   "outputs": [
    {
     "data": {
      "text/plain": [
       "'Optimal profit from Random Forest Propensity-to-Buy: $15,838.55'"
      ]
     },
     "execution_count": 43,
     "metadata": {},
     "output_type": "execute_result"
    }
   ],
   "source": [
    "# Random Forest\n",
    "target_pct = 0.50\n",
    "incremental_resp = tab_rf_propensity.loc[tab_rf_propensity.cum_prop == target_pct, \"incremental_resp\"] \n",
    "rf_max_profit_prop = (14.99 * incremental_resp - 1.5 * 9000 * target_pct) * 120000 / 9000\n",
    "f\"Optimal profit from Random Forest Propensity-to-Buy: ${rf_max_profit_prop.values[0]:,.2f}\""
   ]
  },
  {
   "cell_type": "code",
   "execution_count": 44,
   "metadata": {},
   "outputs": [
    {
     "data": {
      "text/plain": [
       "'Optimal profit from Random Forest: $55,021.20'"
      ]
     },
     "execution_count": 44,
     "metadata": {},
     "output_type": "execute_result"
    }
   ],
   "source": [
    "# Logistic regression\n",
    "target_pct = 0.30\n",
    "incremental_resp = tab_rf.loc[tab_rf.cum_prop == target_pct, \"incremental_resp\"] \n",
    "rf_max_profit_uplift = (14.99 * incremental_resp - 1.5 * 9000 * target_pct) * 120000 / 9000\n",
    "f\"Optimal profit from Random Forest: ${rf_max_profit_uplift.values[0]:,.2f}\""
   ]
  },
  {
   "cell_type": "code",
   "execution_count": 45,
   "metadata": {},
   "outputs": [
    {
     "data": {
      "text/plain": [
       "'Improvement ($) in optimal profit from Random Forest Propensity vs Uplift: $39,182.65'"
      ]
     },
     "execution_count": 45,
     "metadata": {},
     "output_type": "execute_result"
    }
   ],
   "source": [
    "uplift_diff = rf_max_profit_uplift.values[0] - rf_max_profit_prop.values[0]\n",
    "f\"Improvement ($) in optimal profit from Random Forest Propensity vs Uplift: ${uplift_diff:,.2f}\""
   ]
  },
  {
   "cell_type": "code",
   "execution_count": 46,
   "metadata": {},
   "outputs": [
    {
     "data": {
      "text/plain": [
       "'Improvement (%) in optimal profit from Random Forest Propensity vs Uplift: 247.39%'"
      ]
     },
     "execution_count": 46,
     "metadata": {},
     "output_type": "execute_result"
    }
   ],
   "source": [
    "uplift_pct = 100 * (rf_max_profit_uplift.values[0] - rf_max_profit_prop.values[0])/rf_max_profit_prop.values[0]\n",
    "# uplift_pct = (rf_max_profit_uplift.values[0] / rf_max_profit_prop.values[0] - 1) * 100\n",
    "f\"Improvement (%) in optimal profit from Random Forest Propensity vs Uplift: {uplift_pct:,.2f}%\""
   ]
  },
  {
   "attachments": {},
   "cell_type": "markdown",
   "metadata": {},
   "source": [
    "5. Give two reasons why one model performs better than the other on incremental profit when the optimal percentage of customers is selected for each model (2 points)"
   ]
  },
  {
   "cell_type": "code",
   "execution_count": 47,
   "metadata": {},
   "outputs": [
    {
     "data": {
      "text/markdown": [
       "The uplift model increases incremental profits by $39,182.65, a 247.39% increase over the propensity model. There are two reasons for this. First, the uplift model sorts consumers by uplift, not propensity, which is the right sorting order if we want to maximize incremental profits. Second, the uplift model uses a breakeven that takes into account the fact that the marginal customer can generate profit organically."
      ],
      "text/plain": [
       "<IPython.core.display.Markdown object>"
      ]
     },
     "metadata": {},
     "output_type": "display_data"
    }
   ],
   "source": [
    "rsm.md(f\"The uplift model increases incremental profits by ${uplift_diff:,.2f}, a {uplift_pct:.2f}% increase over the propensity model. There are two reasons for this. First, the uplift model sorts consumers by uplift, not propensity, which is the right sorting order if we want to maximize incremental profits. Second, the uplift model uses a breakeven that takes into account the fact that the marginal customer can generate profit organically.\")"
   ]
  }
 ],
 "metadata": {
  "kernelspec": {
   "display_name": "base",
   "language": "python",
   "name": "python3"
  },
  "language_info": {
   "codemirror_mode": {
    "name": "ipython",
    "version": 3
   },
   "file_extension": ".py",
   "mimetype": "text/x-python",
   "name": "python",
   "nbconvert_exporter": "python",
   "pygments_lexer": "ipython3",
   "version": "3.10.8"
  },
  "vscode": {
   "interpreter": {
    "hash": "d4d1e4263499bec80672ea0156c357c1ee493ec2b1c70f0acce89fc37c4a6abe"
   }
  }
 },
 "nbformat": 4,
 "nbformat_minor": 4
}
